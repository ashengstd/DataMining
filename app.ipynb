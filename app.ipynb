{
 "cells": [
  {
   "cell_type": "markdown",
   "metadata": {},
   "source": [
    "# 引入必要库"
   ]
  },
  {
   "cell_type": "code",
   "execution_count": 33,
   "metadata": {},
   "outputs": [],
   "source": [
    "# 引入必要库\n",
    "import pandas as pd\n",
    "import numpy as np\n",
    "import torch\n",
    "import lightgbm as lgb\n",
    "\n",
    "from sklearn.model_selection import train_test_split\n",
    "from sklearn.svm import SVC\n",
    "from sklearn.manifold import TSNE\n",
    "from sklearn.metrics import classification_report, accuracy_score, precision_score, recall_score, f1_score\n",
    "from sklearn.ensemble import RandomForestClassifier, AdaBoostClassifier, VotingClassifier\n",
    "from sklearn.preprocessing import StandardScaler\n",
    "from sklearn.tree import DecisionTreeClassifier\n",
    "from imblearn.under_sampling import RandomUnderSampler, TomekLinks\n",
    "from imblearn.over_sampling import RandomOverSampler, SMOTE\n",
    "from matplotlib import pyplot as plt\n",
    "from model.vae_pipeline import train_vae\n",
    "from model.anomaly_detection_pipeline import train_vae_anomaly_detection\n",
    "\n",
    "# 选择设备\n",
    "device = torch.device(\"cuda:0\" if torch.cuda.is_available() else \"cpu\")"
   ]
  },
  {
   "cell_type": "markdown",
   "metadata": {},
   "source": [
    "# 数据准备"
   ]
  },
  {
   "cell_type": "code",
   "execution_count": 34,
   "metadata": {},
   "outputs": [],
   "source": [
    "df_application_record = pd.read_csv(\"dataset/application_record.csv\")\n",
    "df_credit_record = pd.read_csv(\"dataset/credit_record.csv\")"
   ]
  },
  {
   "cell_type": "code",
   "execution_count": 35,
   "metadata": {},
   "outputs": [],
   "source": [
    "# 丢弃重复ID数据\n",
    "df_application_record = df_application_record.drop_duplicates(subset = 'ID', keep = False)"
   ]
  },
  {
   "cell_type": "code",
   "execution_count": 36,
   "metadata": {},
   "outputs": [],
   "source": [
    "# 调整数据框，以便仅使用一致的ID进行处理\n",
    "df_application_record = df_application_record[df_application_record['ID'].isin(df_credit_record['ID'])]\n",
    "df_credit_record = df_credit_record[df_credit_record['ID'].isin(df_application_record['ID'])]"
   ]
  },
  {
   "cell_type": "markdown",
   "metadata": {},
   "source": [
    "# 数据清洗"
   ]
  },
  {
   "cell_type": "code",
   "execution_count": 37,
   "metadata": {},
   "outputs": [],
   "source": [
    "# 生成标签用于柱状图\n",
    "label_dict = {'1': 0, '2': 0, '3': 0, '4': 0, '5': 0, 'X': -1, 'C': 1, '0': 1}\n",
    "df_credit_record['APPROVED'] = df_credit_record['STATUS'].map(label_dict)\n",
    "df_credit_record = df_credit_record[df_credit_record['APPROVED'] != -1]"
   ]
  },
  {
   "cell_type": "code",
   "execution_count": 38,
   "metadata": {},
   "outputs": [],
   "source": [
    "# 合并数据\n",
    "df_application_record = df_application_record.merge(df_credit_record, on='ID')"
   ]
  },
  {
   "cell_type": "code",
   "execution_count": 39,
   "metadata": {},
   "outputs": [],
   "source": [
    "df_application_record = df_application_record[df_application_record['MONTHS_BALANCE']==-4]\n",
    "df_application_record.loc[df_application_record[\"NAME_INCOME_TYPE\"]==\"Pensioner\",\"OCCUPATION_TYPE\"] = \"Pension\"\n",
    "df_application_record.loc[df_application_record[\"NAME_INCOME_TYPE\"]==\"Commercial associate\",\"OCCUPATION_TYPE\"] = \"Commercial associate\"\n",
    "df_application_record.loc[df_application_record[\"NAME_INCOME_TYPE\"]==\"State servant\",\"OCCUPATION_TYPE\"] = \"State servant\"\n",
    "df_application_record.loc[df_application_record[\"NAME_INCOME_TYPE\"]==\"Student\",\"OCCUPATION_TYPE\"] = \"Student\"\n",
    "df_application_record = df_application_record.dropna()"
   ]
  },
  {
   "cell_type": "code",
   "execution_count": 40,
   "metadata": {},
   "outputs": [],
   "source": [
    "df_application_record['Work_Time'] = -(df_application_record['DAYS_EMPLOYED'])//365\n",
    "\n",
    "df_application_record = df_application_record.drop(df_application_record[df_application_record['Work_Time']>50].index)\n",
    "df_application_record = df_application_record.drop(df_application_record[df_application_record['Work_Time']<0].index)\n",
    "df_application_record = df_application_record.drop(columns=['STATUS'])\n",
    "df_application_record.drop(['DAYS_EMPLOYED'],axis=1,inplace=True)\n"
   ]
  },
  {
   "cell_type": "code",
   "execution_count": 41,
   "metadata": {},
   "outputs": [],
   "source": [
    "baseline_date = pd.to_datetime('2023-01-01')\n",
    "df_application_record['BIRTH_DATE'] = baseline_date + pd.to_timedelta(df_application_record['DAYS_BIRTH'], unit='D')\n",
    "df_application_record['AGE'] = (baseline_date - df_application_record['BIRTH_DATE']).dt.days // 365\n",
    "df_application_record = df_application_record.drop(columns=['DAYS_BIRTH','BIRTH_DATE'])"
   ]
  },
  {
   "cell_type": "code",
   "execution_count": 42,
   "metadata": {},
   "outputs": [],
   "source": [
    "onehot = False\n",
    "if onehot:\n",
    "    categorical_columns = ['CODE_GENDER', 'NAME_FAMILY_STATUS', 'FLAG_OWN_CAR', 'FLAG_OWN_REALTY']\n",
    "    dummy_columns = ['NAME_INCOME_TYPE', 'NAME_EDUCATION_TYPE', 'NAME_HOUSING_TYPE', 'OCCUPATION_TYPE']\n",
    "else:\n",
    "    categorical_columns = ['CODE_GENDER', 'NAME_FAMILY_STATUS', 'FLAG_OWN_CAR', 'FLAG_OWN_REALTY', 'NAME_INCOME_TYPE', 'NAME_EDUCATION_TYPE', 'NAME_HOUSING_TYPE', 'OCCUPATION_TYPE']\n",
    "    dummy_columns = []\n",
    "categorical_df = df_application_record[categorical_columns]\n",
    "categorical_df = categorical_df.apply(lambda x: pd.factorize(x)[0])\n",
    "categorical_df = pd.DataFrame(categorical_df)\n",
    "df_application_record[categorical_columns] = categorical_df\n",
    "df_application_record = pd.get_dummies(df_application_record, columns=dummy_columns)\n",
    "df_application_record.to_csv('dataset.csv', index=False)"
   ]
  },
  {
   "cell_type": "markdown",
   "metadata": {},
   "source": [
    "# 创建数据集"
   ]
  },
  {
   "cell_type": "code",
   "execution_count": 43,
   "metadata": {},
   "outputs": [],
   "source": [
    "# scaler = MinMaxScaler()\n",
    "# df_application_record['AMT_INCOME_TOTAL']=scaler.fit_transform(df_application_record['AMT_INCOME_TOTAL'].values.reshape(-1, 1))\n",
    "# df_application_record['DAYS_EMPLOYED']=scaler.fit_transform(df_application_record['DAYS_EMPLOYED'].values.reshape(-1, 1))\n",
    "# df_application_record['MONTHS_BALANCE']=scaler.fit_transform(df_application_record['MONTHS_BALANCE'].values.reshape(-1, 1))\n",
    "# scaler = StandardScaler()\n",
    "# df_application_record['CNT_FAM_MEMBERS']=scaler.fit_transform(df_application_record['CNT_FAM_MEMBERS'].values.reshape(-1, 1))\n",
    "# df_application_record['AGE']=scaler.fit_transform(df_application_record['AGE'].values.reshape(-1, 1))\n",
    "\n",
    "negative_data_orgin = df_application_record[df_application_record['APPROVED']==0]\n",
    "negative_data = negative_data_orgin.drop(['APPROVED', 'ID','CODE_GENDER'], axis = 1)\n",
    "\n",
    "X = df_application_record.drop(['APPROVED', 'ID','CODE_GENDER'], axis = 1)\n",
    "y = df_application_record['APPROVED']\n",
    "X = np.array(X,dtype=float)\n",
    "y = np.array(y, dtype=int)\n",
    "\n",
    "X_train, X_test, y_train, y_test = train_test_split(X, y)\n",
    "\n",
    "scalar = StandardScaler()\n",
    "X_train = scalar.fit_transform(X_train)\n",
    "X_test = scalar.fit_transform(X_test)\n",
    "\n",
    "negative_data = scalar.fit_transform(np.array(negative_data,dtype=float))\n",
    "negative_label_list = np.zeros(len(negative_data))\n",
    "\n",
    "\n",
    "# 创建 RandomUnderSampler 对象\n",
    "undersampler = RandomUnderSampler(sampling_strategy='majority')\n",
    "\n",
    "# 使用 RandomUnderSampler 来生成平衡的训练集\n",
    "X_train_under_random, y_train_under_random = undersampler.fit_resample(X_train, y_train)\n",
    "\n",
    "# 创建RandomOverSampler对象\n",
    "oversampler = RandomOverSampler(sampling_strategy='minority')\n",
    "\n",
    "# 使用RandomOverSampler来生成平衡的训练集\n",
    "X_train_over_random, y_train_over_random = oversampler.fit_resample(X_train, y_train)\n",
    "\n",
    "# 创建TomekLinks对象\n",
    "undersampler = TomekLinks()\n",
    "\n",
    "# 使用TomekLinks来生成平衡的训练集\n",
    "X_train_under_tomelinks, y_train_under_tomelinks = undersampler.fit_resample(X_train, y_train)\n",
    "\n",
    "# 创建SMOTE对象\n",
    "smote = SMOTE(sampling_strategy='minority',random_state=42)\n",
    "\n",
    "# 使用SMOTE来生成平衡的训练集\n",
    "X_train_smote, y_train_smote = smote.fit_resample(X_train, y_train)"
   ]
  },
  {
   "cell_type": "code",
   "execution_count": 44,
   "metadata": {},
   "outputs": [],
   "source": [
    "data_dict = {\n",
    "    'Original Data': (X_train, y_train),\n",
    "    'Over-sampled Data': (X_train_over_random, y_train_over_random),\n",
    "    'Under-sampled Data': (X_train_under_random, y_train_under_random),\n",
    "    'Tomelinks Data': (X_train_under_tomelinks, y_train_under_tomelinks),\n",
    "    'SMOTE Data': (X_train_smote, y_train_smote)\n",
    "}"
   ]
  },
  {
   "cell_type": "markdown",
   "metadata": {},
   "source": [
    "# 分类"
   ]
  },
  {
   "cell_type": "code",
   "execution_count": 45,
   "metadata": {},
   "outputs": [],
   "source": [
    "performance_data= []"
   ]
  },
  {
   "cell_type": "markdown",
   "metadata": {},
   "source": [
    "## LightGBM"
   ]
  },
  {
   "cell_type": "code",
   "execution_count": 46,
   "metadata": {},
   "outputs": [],
   "source": [
    "params = {\n",
    "    'boosting_type': 'gbdt',\n",
    "    'objective': 'binary',\n",
    "    'learning_rate': 0.05,\n",
    "    'reg_lambda': 1.,\n",
    "    'reg_alpha': .1,\n",
    "    'max_depth': 5,\n",
    "    'n_estimators': 100,\n",
    "    'colsample_bytree': .5,\n",
    "    'min_child_samples': 100,\n",
    "    'subsample': .9,\n",
    "    'importance_type': 'gain',\n",
    "    'random_state': 71,\n",
    "    'num_leaves': 32,\n",
    "    'force_col_wise': True,\n",
    "    'scale_pos_weight': 1,\n",
    "    'bagging_freq': 5,\n",
    "}\n"
   ]
  },
  {
   "cell_type": "code",
   "execution_count": 47,
   "metadata": {},
   "outputs": [
    {
     "name": "stdout",
     "output_type": "stream",
     "text": [
      "300\n",
      "              precision    recall  f1-score   support\n",
      "\n",
      "           0       0.00      0.00      0.00        84\n",
      "           1       0.98      1.00      0.99      3665\n",
      "\n",
      "    accuracy                           0.98      3749\n",
      "   macro avg       0.49      0.50      0.49      3749\n",
      "weighted avg       0.96      0.98      0.97      3749\n",
      "\n",
      "              precision    recall  f1-score   support\n",
      "\n",
      "         0.0       0.00      0.00      0.00     300.0\n",
      "         1.0       0.00      0.00      0.00       0.0\n",
      "\n",
      "    accuracy                           0.00     300.0\n",
      "   macro avg       0.00      0.00      0.00     300.0\n",
      "weighted avg       0.00      0.00      0.00     300.0\n",
      "\n",
      "300\n",
      "              precision    recall  f1-score   support\n",
      "\n",
      "           0       0.04      0.36      0.08        84\n",
      "           1       0.98      0.82      0.90      3665\n",
      "\n",
      "    accuracy                           0.81      3749\n",
      "   macro avg       0.51      0.59      0.49      3749\n",
      "weighted avg       0.96      0.81      0.88      3749\n",
      "\n",
      "              precision    recall  f1-score   support\n",
      "\n",
      "         0.0       1.00      0.41      0.58       300\n",
      "         1.0       0.00      0.00      0.00         0\n",
      "\n",
      "    accuracy                           0.41       300\n",
      "   macro avg       0.50      0.21      0.29       300\n",
      "weighted avg       1.00      0.41      0.58       300\n",
      "\n",
      "300\n",
      "              precision    recall  f1-score   support\n",
      "\n",
      "           0       0.02      0.33      0.04        84\n",
      "           1       0.98      0.63      0.77      3665\n",
      "\n",
      "    accuracy                           0.63      3749\n",
      "   macro avg       0.50      0.48      0.40      3749\n",
      "weighted avg       0.95      0.63      0.75      3749\n",
      "\n",
      "              precision    recall  f1-score   support\n",
      "\n",
      "         0.0       1.00      0.42      0.59       300\n",
      "         1.0       0.00      0.00      0.00         0\n",
      "\n",
      "    accuracy                           0.42       300\n",
      "   macro avg       0.50      0.21      0.30       300\n",
      "weighted avg       1.00      0.42      0.59       300\n",
      "\n"
     ]
    },
    {
     "name": "stderr",
     "output_type": "stream",
     "text": [
      "d:\\Docu\\DateMining\\.venv\\Lib\\site-packages\\sklearn\\metrics\\_classification.py:1469: UndefinedMetricWarning: Precision and F-score are ill-defined and being set to 0.0 in labels with no predicted samples. Use `zero_division` parameter to control this behavior.\n",
      "  _warn_prf(average, modifier, msg_start, len(result))\n",
      "d:\\Docu\\DateMining\\.venv\\Lib\\site-packages\\sklearn\\metrics\\_classification.py:1469: UndefinedMetricWarning: Precision and F-score are ill-defined and being set to 0.0 in labels with no predicted samples. Use `zero_division` parameter to control this behavior.\n",
      "  _warn_prf(average, modifier, msg_start, len(result))\n",
      "d:\\Docu\\DateMining\\.venv\\Lib\\site-packages\\sklearn\\metrics\\_classification.py:1469: UndefinedMetricWarning: Precision and F-score are ill-defined and being set to 0.0 in labels with no predicted samples. Use `zero_division` parameter to control this behavior.\n",
      "  _warn_prf(average, modifier, msg_start, len(result))\n"
     ]
    },
    {
     "name": "stdout",
     "output_type": "stream",
     "text": [
      "300\n",
      "              precision    recall  f1-score   support\n",
      "\n",
      "           0       0.00      0.00      0.00        84\n",
      "           1       0.98      1.00      0.99      3665\n",
      "\n",
      "    accuracy                           0.98      3749\n",
      "   macro avg       0.49      0.50      0.49      3749\n",
      "weighted avg       0.96      0.98      0.97      3749\n",
      "\n",
      "              precision    recall  f1-score   support\n",
      "\n",
      "         0.0       0.00      0.00      0.00     300.0\n",
      "         1.0       0.00      0.00      0.00       0.0\n",
      "\n",
      "    accuracy                           0.00     300.0\n",
      "   macro avg       0.00      0.00      0.00     300.0\n",
      "weighted avg       0.00      0.00      0.00     300.0\n",
      "\n",
      "300\n",
      "              precision    recall  f1-score   support\n",
      "\n",
      "           0       0.02      0.99      0.04        84\n",
      "           1       0.98      0.02      0.03      3665\n",
      "\n",
      "    accuracy                           0.04      3749\n",
      "   macro avg       0.50      0.50      0.04      3749\n",
      "weighted avg       0.96      0.04      0.03      3749\n",
      "\n",
      "              precision    recall  f1-score   support\n",
      "\n",
      "         0.0       1.00      1.00      1.00       300\n",
      "\n",
      "    accuracy                           1.00       300\n",
      "   macro avg       1.00      1.00      1.00       300\n",
      "weighted avg       1.00      1.00      1.00       300\n",
      "\n"
     ]
    },
    {
     "name": "stderr",
     "output_type": "stream",
     "text": [
      "d:\\Docu\\DateMining\\.venv\\Lib\\site-packages\\sklearn\\metrics\\_classification.py:1469: UndefinedMetricWarning: Precision and F-score are ill-defined and being set to 0.0 in labels with no predicted samples. Use `zero_division` parameter to control this behavior.\n",
      "  _warn_prf(average, modifier, msg_start, len(result))\n",
      "d:\\Docu\\DateMining\\.venv\\Lib\\site-packages\\sklearn\\metrics\\_classification.py:1469: UndefinedMetricWarning: Precision and F-score are ill-defined and being set to 0.0 in labels with no predicted samples. Use `zero_division` parameter to control this behavior.\n",
      "  _warn_prf(average, modifier, msg_start, len(result))\n",
      "d:\\Docu\\DateMining\\.venv\\Lib\\site-packages\\sklearn\\metrics\\_classification.py:1469: UndefinedMetricWarning: Precision and F-score are ill-defined and being set to 0.0 in labels with no predicted samples. Use `zero_division` parameter to control this behavior.\n",
      "  _warn_prf(average, modifier, msg_start, len(result))\n"
     ]
    }
   ],
   "source": [
    "for method_name, (X_train_processed, y_train_processed) in data_dict.items():\n",
    "    lgb_model = lgb.LGBMClassifier(**params, verbose=-1)\n",
    "\n",
    "    lgb_model.fit(X_train_processed, y_train_processed)\n",
    "\n",
    "    print(len(negative_data))\n",
    "    y_pred = lgb_model.predict(X_test)\n",
    "    y_prob = lgb_model.predict_proba(X_test)[:, 1]\n",
    "\n",
    "    accuracy = accuracy_score(y_test, y_pred)\n",
    "    precision = precision_score(y_test, y_pred)\n",
    "    recall = recall_score(y_test, y_pred)\n",
    "    f1 = f1_score(y_test, y_pred)\n",
    "    print(classification_report(y_test, y_pred))\n",
    "    negative_data_pred = lgb_model.predict(negative_data)\n",
    "    negative_accuracy = accuracy_score(negative_label_list, negative_data_pred)\n",
    "\n",
    "    print(\n",
    "        classification_report(negative_label_list,\n",
    "                              negative_data_pred,\n",
    "                              zero_division=0))\n",
    "\n",
    "    performance_data.append({\n",
    "        'Classification Method': 'LightGBM',\n",
    "        'Data Process Method': method_name,\n",
    "        'Accuracy': accuracy,\n",
    "        'Precision': precision,\n",
    "        'Recall': recall,\n",
    "        'F1 Score': f1,\n",
    "        'Negative Accuracy': negative_accuracy,\n",
    "    })"
   ]
  },
  {
   "cell_type": "markdown",
   "metadata": {},
   "source": [
    "## RandomForest"
   ]
  },
  {
   "cell_type": "code",
   "execution_count": 48,
   "metadata": {},
   "outputs": [
    {
     "name": "stdout",
     "output_type": "stream",
     "text": [
      "Classification Report for Original Data on Test Data:\n",
      "              precision    recall  f1-score   support\n",
      "\n",
      "           0       0.17      0.04      0.06        84\n",
      "           1       0.98      1.00      0.99      3665\n",
      "\n",
      "    accuracy                           0.97      3749\n",
      "   macro avg       0.57      0.52      0.52      3749\n",
      "weighted avg       0.96      0.97      0.97      3749\n",
      "\n",
      "Classification Report for Original Data on Negative Data:\n",
      "              precision    recall  f1-score   support\n",
      "\n",
      "         0.0       1.00      0.02      0.03       300\n",
      "         1.0       0.00      0.00      0.00         0\n",
      "\n",
      "    accuracy                           0.02       300\n",
      "   macro avg       0.50      0.01      0.02       300\n",
      "weighted avg       1.00      0.02      0.03       300\n",
      "\n",
      "Classification Report for Over-sampled Data on Test Data:\n",
      "              precision    recall  f1-score   support\n",
      "\n",
      "           0       0.12      0.20      0.15        84\n",
      "           1       0.98      0.96      0.97      3665\n",
      "\n",
      "    accuracy                           0.95      3749\n",
      "   macro avg       0.55      0.58      0.56      3749\n",
      "weighted avg       0.96      0.95      0.95      3749\n",
      "\n",
      "Classification Report for Over-sampled Data on Negative Data:\n",
      "              precision    recall  f1-score   support\n",
      "\n",
      "         0.0       1.00      0.18      0.31       300\n",
      "         1.0       0.00      0.00      0.00         0\n",
      "\n",
      "    accuracy                           0.18       300\n",
      "   macro avg       0.50      0.09      0.15       300\n",
      "weighted avg       1.00      0.18      0.31       300\n",
      "\n",
      "Classification Report for Under-sampled Data on Test Data:\n",
      "              precision    recall  f1-score   support\n",
      "\n",
      "           0       0.03      0.58      0.05        84\n",
      "           1       0.98      0.53      0.69      3665\n",
      "\n",
      "    accuracy                           0.53      3749\n",
      "   macro avg       0.50      0.55      0.37      3749\n",
      "weighted avg       0.96      0.53      0.67      3749\n",
      "\n",
      "Classification Report for Under-sampled Data on Negative Data:\n",
      "              precision    recall  f1-score   support\n",
      "\n",
      "         0.0       1.00      0.79      0.88       300\n",
      "         1.0       0.00      0.00      0.00         0\n",
      "\n",
      "    accuracy                           0.79       300\n",
      "   macro avg       0.50      0.39      0.44       300\n",
      "weighted avg       1.00      0.79      0.88       300\n",
      "\n",
      "Classification Report for Tomelinks Data on Test Data:\n",
      "              precision    recall  f1-score   support\n",
      "\n",
      "           0       0.17      0.04      0.06        84\n",
      "           1       0.98      1.00      0.99      3665\n",
      "\n",
      "    accuracy                           0.97      3749\n",
      "   macro avg       0.57      0.52      0.52      3749\n",
      "weighted avg       0.96      0.97      0.97      3749\n",
      "\n",
      "Classification Report for Tomelinks Data on Negative Data:\n",
      "              precision    recall  f1-score   support\n",
      "\n",
      "         0.0       1.00      0.02      0.03       300\n",
      "         1.0       0.00      0.00      0.00         0\n",
      "\n",
      "    accuracy                           0.02       300\n",
      "   macro avg       0.50      0.01      0.02       300\n",
      "weighted avg       1.00      0.02      0.03       300\n",
      "\n",
      "Classification Report for SMOTE Data on Test Data:\n",
      "              precision    recall  f1-score   support\n",
      "\n",
      "           0       0.02      0.87      0.04        84\n",
      "           1       0.98      0.15      0.26      3665\n",
      "\n",
      "    accuracy                           0.16      3749\n",
      "   macro avg       0.50      0.51      0.15      3749\n",
      "weighted avg       0.96      0.16      0.25      3749\n",
      "\n",
      "Classification Report for SMOTE Data on Negative Data:\n",
      "              precision    recall  f1-score   support\n",
      "\n",
      "         0.0       1.00      0.99      0.99       300\n",
      "         1.0       0.00      0.00      0.00         0\n",
      "\n",
      "    accuracy                           0.99       300\n",
      "   macro avg       0.50      0.49      0.50       300\n",
      "weighted avg       1.00      0.99      0.99       300\n",
      "\n"
     ]
    }
   ],
   "source": [
    "for method_name, (X_train_processed, y_train_processed) in data_dict.items():\n",
    "    rfc = RandomForestClassifier(n_estimators=1000, max_features=12)\n",
    "    rfc.fit(X_train_processed, y_train_processed)\n",
    "    predictions = rfc.predict(X_test)\n",
    "    print(f\"Classification Report for {method_name} on Test Data:\")\n",
    "    print(classification_report(y_test, predictions))\n",
    "    negative_predictions = rfc.predict(negative_data)\n",
    "    print(f\"Classification Report for {method_name} on Negative Data:\")\n",
    "    print(\n",
    "        classification_report(negative_label_list,\n",
    "                              negative_predictions,\n",
    "                              zero_division=0))\n",
    "    accuracy = accuracy_score(y_test, predictions)\n",
    "    precision = precision_score(y_test, predictions)\n",
    "    recall = recall_score(y_test, predictions)\n",
    "    f1 = f1_score(y_test, predictions)\n",
    "    performance_data.append({\n",
    "        'Classification Method': 'Random Forest',\n",
    "        'Data Process Method': method_name,\n",
    "        'Accuracy': accuracy,\n",
    "        'Precision': precision,\n",
    "        'Recall': recall,\n",
    "        'F1 Score': f1,\n",
    "        'Negative Accuracy': negative_accuracy,\n",
    "    })"
   ]
  },
  {
   "cell_type": "markdown",
   "metadata": {},
   "source": [
    "## AdaBoost for Decision Tree"
   ]
  },
  {
   "cell_type": "code",
   "execution_count": 49,
   "metadata": {},
   "outputs": [
    {
     "name": "stdout",
     "output_type": "stream",
     "text": [
      "Classification Report for Original Data on Test Data:\n",
      "              precision    recall  f1-score   support\n",
      "\n",
      "           0       0.00      0.00      0.00        84\n",
      "           1       0.98      1.00      0.99      3665\n",
      "\n",
      "    accuracy                           0.98      3749\n",
      "   macro avg       0.49      0.50      0.49      3749\n",
      "weighted avg       0.96      0.98      0.97      3749\n",
      "\n",
      "Classification Report for Original Data on Negative Data:\n",
      "              precision    recall  f1-score   support\n",
      "\n",
      "         0.0       0.00      0.00      0.00     300.0\n",
      "         1.0       0.00      0.00      0.00       0.0\n",
      "\n",
      "    accuracy                           0.00     300.0\n",
      "   macro avg       0.00      0.00      0.00     300.0\n",
      "weighted avg       0.00      0.00      0.00     300.0\n",
      "\n"
     ]
    },
    {
     "name": "stderr",
     "output_type": "stream",
     "text": [
      "d:\\Docu\\DateMining\\.venv\\Lib\\site-packages\\sklearn\\metrics\\_classification.py:1469: UndefinedMetricWarning: Precision and F-score are ill-defined and being set to 0.0 in labels with no predicted samples. Use `zero_division` parameter to control this behavior.\n",
      "  _warn_prf(average, modifier, msg_start, len(result))\n",
      "d:\\Docu\\DateMining\\.venv\\Lib\\site-packages\\sklearn\\metrics\\_classification.py:1469: UndefinedMetricWarning: Precision and F-score are ill-defined and being set to 0.0 in labels with no predicted samples. Use `zero_division` parameter to control this behavior.\n",
      "  _warn_prf(average, modifier, msg_start, len(result))\n",
      "d:\\Docu\\DateMining\\.venv\\Lib\\site-packages\\sklearn\\metrics\\_classification.py:1469: UndefinedMetricWarning: Precision and F-score are ill-defined and being set to 0.0 in labels with no predicted samples. Use `zero_division` parameter to control this behavior.\n",
      "  _warn_prf(average, modifier, msg_start, len(result))\n"
     ]
    },
    {
     "name": "stdout",
     "output_type": "stream",
     "text": [
      "Classification Report for Over-sampled Data on Test Data:\n",
      "              precision    recall  f1-score   support\n",
      "\n",
      "           0       0.02      0.38      0.04        84\n",
      "           1       0.98      0.64      0.77      3665\n",
      "\n",
      "    accuracy                           0.63      3749\n",
      "   macro avg       0.50      0.51      0.41      3749\n",
      "weighted avg       0.96      0.63      0.76      3749\n",
      "\n",
      "Classification Report for Over-sampled Data on Negative Data:\n",
      "              precision    recall  f1-score   support\n",
      "\n",
      "         0.0       1.00      0.43      0.60       300\n",
      "         1.0       0.00      0.00      0.00         0\n",
      "\n",
      "    accuracy                           0.43       300\n",
      "   macro avg       0.50      0.22      0.30       300\n",
      "weighted avg       1.00      0.43      0.60       300\n",
      "\n",
      "Classification Report for Under-sampled Data on Test Data:\n",
      "              precision    recall  f1-score   support\n",
      "\n",
      "           0       0.03      0.51      0.05        84\n",
      "           1       0.98      0.58      0.73      3665\n",
      "\n",
      "    accuracy                           0.58      3749\n",
      "   macro avg       0.50      0.55      0.39      3749\n",
      "weighted avg       0.96      0.58      0.72      3749\n",
      "\n",
      "Classification Report for Under-sampled Data on Negative Data:\n",
      "              precision    recall  f1-score   support\n",
      "\n",
      "         0.0       1.00      0.53      0.69       300\n",
      "         1.0       0.00      0.00      0.00         0\n",
      "\n",
      "    accuracy                           0.53       300\n",
      "   macro avg       0.50      0.26      0.34       300\n",
      "weighted avg       1.00      0.53      0.69       300\n",
      "\n",
      "Classification Report for Tomelinks Data on Test Data:\n",
      "              precision    recall  f1-score   support\n",
      "\n",
      "           0       0.00      0.00      0.00        84\n",
      "           1       0.98      1.00      0.99      3665\n",
      "\n",
      "    accuracy                           0.98      3749\n",
      "   macro avg       0.49      0.50      0.49      3749\n",
      "weighted avg       0.96      0.98      0.97      3749\n",
      "\n",
      "Classification Report for Tomelinks Data on Negative Data:\n",
      "              precision    recall  f1-score   support\n",
      "\n",
      "         0.0       0.00      0.00      0.00     300.0\n",
      "         1.0       0.00      0.00      0.00       0.0\n",
      "\n",
      "    accuracy                           0.00     300.0\n",
      "   macro avg       0.00      0.00      0.00     300.0\n",
      "weighted avg       0.00      0.00      0.00     300.0\n",
      "\n"
     ]
    },
    {
     "name": "stderr",
     "output_type": "stream",
     "text": [
      "d:\\Docu\\DateMining\\.venv\\Lib\\site-packages\\sklearn\\metrics\\_classification.py:1469: UndefinedMetricWarning: Precision and F-score are ill-defined and being set to 0.0 in labels with no predicted samples. Use `zero_division` parameter to control this behavior.\n",
      "  _warn_prf(average, modifier, msg_start, len(result))\n",
      "d:\\Docu\\DateMining\\.venv\\Lib\\site-packages\\sklearn\\metrics\\_classification.py:1469: UndefinedMetricWarning: Precision and F-score are ill-defined and being set to 0.0 in labels with no predicted samples. Use `zero_division` parameter to control this behavior.\n",
      "  _warn_prf(average, modifier, msg_start, len(result))\n",
      "d:\\Docu\\DateMining\\.venv\\Lib\\site-packages\\sklearn\\metrics\\_classification.py:1469: UndefinedMetricWarning: Precision and F-score are ill-defined and being set to 0.0 in labels with no predicted samples. Use `zero_division` parameter to control this behavior.\n",
      "  _warn_prf(average, modifier, msg_start, len(result))\n"
     ]
    },
    {
     "name": "stdout",
     "output_type": "stream",
     "text": [
      "Classification Report for SMOTE Data on Test Data:\n",
      "              precision    recall  f1-score   support\n",
      "\n",
      "           0       0.02      1.00      0.04        84\n",
      "           1       0.00      0.00      0.00      3665\n",
      "\n",
      "    accuracy                           0.02      3749\n",
      "   macro avg       0.01      0.50      0.02      3749\n",
      "weighted avg       0.00      0.02      0.00      3749\n",
      "\n",
      "Classification Report for SMOTE Data on Negative Data:\n",
      "              precision    recall  f1-score   support\n",
      "\n",
      "         0.0       1.00      1.00      1.00       300\n",
      "\n",
      "    accuracy                           1.00       300\n",
      "   macro avg       1.00      1.00      1.00       300\n",
      "weighted avg       1.00      1.00      1.00       300\n",
      "\n"
     ]
    },
    {
     "name": "stderr",
     "output_type": "stream",
     "text": [
      "d:\\Docu\\DateMining\\.venv\\Lib\\site-packages\\sklearn\\metrics\\_classification.py:1469: UndefinedMetricWarning: Precision and F-score are ill-defined and being set to 0.0 in labels with no predicted samples. Use `zero_division` parameter to control this behavior.\n",
      "  _warn_prf(average, modifier, msg_start, len(result))\n",
      "d:\\Docu\\DateMining\\.venv\\Lib\\site-packages\\sklearn\\metrics\\_classification.py:1469: UndefinedMetricWarning: Precision and F-score are ill-defined and being set to 0.0 in labels with no predicted samples. Use `zero_division` parameter to control this behavior.\n",
      "  _warn_prf(average, modifier, msg_start, len(result))\n",
      "d:\\Docu\\DateMining\\.venv\\Lib\\site-packages\\sklearn\\metrics\\_classification.py:1469: UndefinedMetricWarning: Precision and F-score are ill-defined and being set to 0.0 in labels with no predicted samples. Use `zero_division` parameter to control this behavior.\n",
      "  _warn_prf(average, modifier, msg_start, len(result))\n",
      "d:\\Docu\\DateMining\\.venv\\Lib\\site-packages\\sklearn\\metrics\\_classification.py:1469: UndefinedMetricWarning: Precision is ill-defined and being set to 0.0 due to no predicted samples. Use `zero_division` parameter to control this behavior.\n",
      "  _warn_prf(average, modifier, msg_start, len(result))\n"
     ]
    }
   ],
   "source": [
    "for method_name, (X_train_processed, y_train_processed) in data_dict.items():\n",
    "    # 使用决策树桩作为弱分类器，也可以选择其他弱分类器\n",
    "    base_classifier = DecisionTreeClassifier(max_depth=1)\n",
    "\n",
    "    # 使用AdaBoost分类器\n",
    "    adaboost = AdaBoostClassifier(base_classifier,\n",
    "                                  n_estimators=1000,\n",
    "                                  algorithm='SAMME',\n",
    "                                  random_state=42)\n",
    "\n",
    "    # 训练模型\n",
    "    adaboost.fit(X_train_processed, y_train_processed)\n",
    "\n",
    "    # 在测试集上进行预测和评估\n",
    "    predictions_test = adaboost.predict(X_test)\n",
    "    print(f\"Classification Report for {method_name} on Test Data:\")\n",
    "    print(classification_report(y_test, predictions_test))\n",
    "\n",
    "    # 在负样本数据上进行预测和评估\n",
    "    predictions_negative = adaboost.predict(negative_data)\n",
    "    print(f\"Classification Report for {method_name} on Negative Data:\")\n",
    "    print(\n",
    "        classification_report(negative_label_list,\n",
    "                              predictions_negative,\n",
    "                              zero_division=0))\n",
    "    accuracy = accuracy_score(y_test, predictions_test)\n",
    "    precision = precision_score(y_test, predictions_test)\n",
    "    recall = recall_score(y_test, predictions_test)\n",
    "    f1 = f1_score(y_test, predictions_test)\n",
    "    performance_data.append({\n",
    "        'Classification Method': 'AdaBoost for Decision Tree',\n",
    "        'Data Process Method': method_name,\n",
    "        'Accuracy': accuracy,\n",
    "        'Precision': precision,\n",
    "        'Recall': recall,\n",
    "        'F1 Score': f1,\n",
    "        'Negative Accuracy': negative_accuracy,\n",
    "    })"
   ]
  },
  {
   "cell_type": "markdown",
   "metadata": {},
   "source": [
    "## SVM"
   ]
  },
  {
   "cell_type": "code",
   "execution_count": 50,
   "metadata": {},
   "outputs": [
    {
     "name": "stdout",
     "output_type": "stream",
     "text": [
      "Method: Original Data - SVM Classification Report on Test Data:\n",
      "              precision    recall  f1-score   support\n",
      "\n",
      "           0       0.00      0.00      0.00        84\n",
      "           1       0.98      1.00      0.99      3665\n",
      "\n",
      "    accuracy                           0.98      3749\n",
      "   macro avg       0.49      0.50      0.49      3749\n",
      "weighted avg       0.96      0.98      0.97      3749\n",
      "\n",
      "Method: Original Data - SVM Classification Report on Negative Data:\n",
      "              precision    recall  f1-score   support\n",
      "\n",
      "         0.0       1.00      1.00      1.00       300\n",
      "\n",
      "    accuracy                           1.00       300\n",
      "   macro avg       1.00      1.00      1.00       300\n",
      "weighted avg       1.00      1.00      1.00       300\n",
      "\n"
     ]
    },
    {
     "name": "stderr",
     "output_type": "stream",
     "text": [
      "d:\\Docu\\DateMining\\.venv\\Lib\\site-packages\\sklearn\\metrics\\_classification.py:1469: UndefinedMetricWarning: Precision and F-score are ill-defined and being set to 0.0 in labels with no predicted samples. Use `zero_division` parameter to control this behavior.\n",
      "  _warn_prf(average, modifier, msg_start, len(result))\n",
      "d:\\Docu\\DateMining\\.venv\\Lib\\site-packages\\sklearn\\metrics\\_classification.py:1469: UndefinedMetricWarning: Precision and F-score are ill-defined and being set to 0.0 in labels with no predicted samples. Use `zero_division` parameter to control this behavior.\n",
      "  _warn_prf(average, modifier, msg_start, len(result))\n",
      "d:\\Docu\\DateMining\\.venv\\Lib\\site-packages\\sklearn\\metrics\\_classification.py:1469: UndefinedMetricWarning: Precision and F-score are ill-defined and being set to 0.0 in labels with no predicted samples. Use `zero_division` parameter to control this behavior.\n",
      "  _warn_prf(average, modifier, msg_start, len(result))\n"
     ]
    },
    {
     "name": "stdout",
     "output_type": "stream",
     "text": [
      "Method: Over-sampled Data - SVM Classification Report on Test Data:\n",
      "              precision    recall  f1-score   support\n",
      "\n",
      "           0       0.03      0.27      0.06        84\n",
      "           1       0.98      0.82      0.89      3665\n",
      "\n",
      "    accuracy                           0.80      3749\n",
      "   macro avg       0.51      0.55      0.47      3749\n",
      "weighted avg       0.96      0.80      0.87      3749\n",
      "\n",
      "Method: Over-sampled Data - SVM Classification Report on Negative Data:\n",
      "              precision    recall  f1-score   support\n",
      "\n",
      "         0.0       1.00      1.00      1.00       300\n",
      "\n",
      "    accuracy                           1.00       300\n",
      "   macro avg       1.00      1.00      1.00       300\n",
      "weighted avg       1.00      1.00      1.00       300\n",
      "\n",
      "Method: Under-sampled Data - SVM Classification Report on Test Data:\n",
      "              precision    recall  f1-score   support\n",
      "\n",
      "           0       0.02      0.42      0.05        84\n",
      "           1       0.98      0.62      0.76      3665\n",
      "\n",
      "    accuracy                           0.61      3749\n",
      "   macro avg       0.50      0.52      0.40      3749\n",
      "weighted avg       0.96      0.61      0.74      3749\n",
      "\n",
      "Method: Under-sampled Data - SVM Classification Report on Negative Data:\n",
      "              precision    recall  f1-score   support\n",
      "\n",
      "         0.0       1.00      1.00      1.00       300\n",
      "\n",
      "    accuracy                           1.00       300\n",
      "   macro avg       1.00      1.00      1.00       300\n",
      "weighted avg       1.00      1.00      1.00       300\n",
      "\n",
      "Method: Tomelinks Data - SVM Classification Report on Test Data:\n",
      "              precision    recall  f1-score   support\n",
      "\n",
      "           0       0.00      0.00      0.00        84\n",
      "           1       0.98      1.00      0.99      3665\n",
      "\n",
      "    accuracy                           0.98      3749\n",
      "   macro avg       0.49      0.50      0.49      3749\n",
      "weighted avg       0.96      0.98      0.97      3749\n",
      "\n",
      "Method: Tomelinks Data - SVM Classification Report on Negative Data:\n",
      "              precision    recall  f1-score   support\n",
      "\n",
      "         0.0       1.00      1.00      1.00       300\n",
      "\n",
      "    accuracy                           1.00       300\n",
      "   macro avg       1.00      1.00      1.00       300\n",
      "weighted avg       1.00      1.00      1.00       300\n",
      "\n"
     ]
    },
    {
     "name": "stderr",
     "output_type": "stream",
     "text": [
      "d:\\Docu\\DateMining\\.venv\\Lib\\site-packages\\sklearn\\metrics\\_classification.py:1469: UndefinedMetricWarning: Precision and F-score are ill-defined and being set to 0.0 in labels with no predicted samples. Use `zero_division` parameter to control this behavior.\n",
      "  _warn_prf(average, modifier, msg_start, len(result))\n",
      "d:\\Docu\\DateMining\\.venv\\Lib\\site-packages\\sklearn\\metrics\\_classification.py:1469: UndefinedMetricWarning: Precision and F-score are ill-defined and being set to 0.0 in labels with no predicted samples. Use `zero_division` parameter to control this behavior.\n",
      "  _warn_prf(average, modifier, msg_start, len(result))\n",
      "d:\\Docu\\DateMining\\.venv\\Lib\\site-packages\\sklearn\\metrics\\_classification.py:1469: UndefinedMetricWarning: Precision and F-score are ill-defined and being set to 0.0 in labels with no predicted samples. Use `zero_division` parameter to control this behavior.\n",
      "  _warn_prf(average, modifier, msg_start, len(result))\n"
     ]
    },
    {
     "name": "stdout",
     "output_type": "stream",
     "text": [
      "Method: SMOTE Data - SVM Classification Report on Test Data:\n",
      "              precision    recall  f1-score   support\n",
      "\n",
      "           0       0.04      0.23      0.06        84\n",
      "           1       0.98      0.86      0.92      3665\n",
      "\n",
      "    accuracy                           0.85      3749\n",
      "   macro avg       0.51      0.54      0.49      3749\n",
      "weighted avg       0.96      0.85      0.90      3749\n",
      "\n",
      "Method: SMOTE Data - SVM Classification Report on Negative Data:\n",
      "              precision    recall  f1-score   support\n",
      "\n",
      "         0.0       1.00      1.00      1.00       300\n",
      "\n",
      "    accuracy                           1.00       300\n",
      "   macro avg       1.00      1.00      1.00       300\n",
      "weighted avg       1.00      1.00      1.00       300\n",
      "\n"
     ]
    }
   ],
   "source": [
    "for method_name, (X_train_processed, y_train_processed) in data_dict.items():\n",
    "   # 使用 SVM 替代 RandomForestClassifier\n",
    "   svm_model = SVC()\n",
    "   svm_model.fit(X_train_processed, y_train_processed)\n",
    "\n",
    "   # SVM 在测试集上的分类报告\n",
    "   predictions_svm_test = svm_model.predict(X_test)\n",
    "   print(f\"Method: {method_name} - SVM Classification Report on Test Data:\")\n",
    "   print(classification_report(y_test, predictions_svm_test))\n",
    "\n",
    "   # SVM 在负样本上的分类报告\n",
    "   predictions_svm_negative = svm_model.predict(negative_data)\n",
    "   print(\n",
    "      f\"Method: {method_name} - SVM Classification Report on Negative Data:\")\n",
    "   print(\n",
    "      classification_report(negative_label_list,\n",
    "                           predictions_negative,\n",
    "                           zero_division=0))\n",
    "   accuracy = accuracy_score(y_test, predictions_svm_test)\n",
    "   precision = precision_score(y_test, predictions_svm_test)\n",
    "   recall = recall_score(y_test, predictions_svm_test)\n",
    "   f1 = f1_score(y_test, predictions_svm_test)\n",
    "   performance_data.append({\n",
    "       'Classification Method': 'SVM',\n",
    "       'Data Process Method': method_name,\n",
    "       'Accuracy': accuracy,\n",
    "       'Precision': precision,\n",
    "       'Recall': recall,\n",
    "       'F1 Score': f1,\n",
    "       'Negative Accuracy': negative_accuracy,\n",
    "   })\n"
   ]
  },
  {
   "cell_type": "markdown",
   "metadata": {},
   "source": [
    "## AdaBoost for SVM"
   ]
  },
  {
   "cell_type": "code",
   "execution_count": 51,
   "metadata": {},
   "outputs": [],
   "source": [
    "# for method_name, (X_train_processed, y_train_processed) in data_dict.items():\n",
    "#     # 使用支持向量机作为弱分类器\n",
    "#     base_classifier = SVC(kernel='linear', C=1.0)\n",
    "\n",
    "#     # 使用AdaBoost分类器\n",
    "#     adaboost = AdaBoostClassifier(base_classifier,\n",
    "#                                   n_estimators=1000,\n",
    "#                                   algorithm='SAMME',\n",
    "#                                   random_state=42)\n",
    "\n",
    "#     # 训练模型\n",
    "#     adaboost.fit(X_train_processed, y_train_processed)\n",
    "\n",
    "#     # 在测试集上进行预测和评估\n",
    "#     predictions_test = adaboost.predict(X_test)\n",
    "#     print(f\"Classification Report for {method_name} on Test Data:\")\n",
    "#     print(classification_report(y_test, predictions_test))\n",
    "\n",
    "#     # 在负样本数据上进行预测和评估\n",
    "#     predictions_negative = adaboost.predict(negative_data)\n",
    "#     print(f\"Classification Report for {method_name} on Negative Data:\")\n",
    "#     print(\n",
    "#         classification_report(negative_label_list,\n",
    "#                               predictions_negative,\n",
    "#                               zero_division=0))\n",
    "#     accuracy = accuracy_score(y_test, predictions_test)\n",
    "#     precision = precision_score(y_test, predictions_test)\n",
    "#     recall = recall_score(y_test, predictions_test)\n",
    "#     f1 = f1_score(y_test, predictions_test)\n",
    "#     performance_data.append({\n",
    "#         'Classification Method': 'AdaBoost for SVM',\n",
    "#         'Data Process Method': method_name,\n",
    "#         'Accuracy': accuracy,\n",
    "#         'Precision': precision,\n",
    "#         'Recall': recall,\n",
    "#         'F1 Score': f1,\n",
    "#         'Negative Accuracy': negative_accuracy,\n",
    "#     })"
   ]
  },
  {
   "cell_type": "markdown",
   "metadata": {},
   "source": [
    "# 特征提取"
   ]
  },
  {
   "cell_type": "code",
   "execution_count": 52,
   "metadata": {},
   "outputs": [
    {
     "name": "stdout",
     "output_type": "stream",
     "text": [
      "Training for the method: Original Data\n"
     ]
    },
    {
     "name": "stderr",
     "output_type": "stream",
     "text": [
      "Epoch 2/250:   0%|          | 0/3 [00:00<?, ?it/s]"
     ]
    },
    {
     "name": "stderr",
     "output_type": "stream",
     "text": [
      "                                                            \r"
     ]
    },
    {
     "name": "stdout",
     "output_type": "stream",
     "text": [
      "Best epoch: 249\n",
      "Training for the method: Over-sampled Data\n"
     ]
    },
    {
     "name": "stderr",
     "output_type": "stream",
     "text": [
      "                                                            \r"
     ]
    },
    {
     "name": "stdout",
     "output_type": "stream",
     "text": [
      "Best epoch: 249\n",
      "Training for the method: Under-sampled Data\n"
     ]
    },
    {
     "name": "stderr",
     "output_type": "stream",
     "text": [
      "                                                    \r"
     ]
    },
    {
     "name": "stdout",
     "output_type": "stream",
     "text": [
      "Best epoch: 249\n",
      "Training for the method: Tomelinks Data\n"
     ]
    },
    {
     "name": "stderr",
     "output_type": "stream",
     "text": [
      "                                                            \r"
     ]
    },
    {
     "name": "stdout",
     "output_type": "stream",
     "text": [
      "Best epoch: 249\n",
      "Training for the method: SMOTE Data\n"
     ]
    },
    {
     "name": "stderr",
     "output_type": "stream",
     "text": [
      "                                                            "
     ]
    },
    {
     "name": "stdout",
     "output_type": "stream",
     "text": [
      "Best epoch: 249\n"
     ]
    },
    {
     "name": "stderr",
     "output_type": "stream",
     "text": [
      "\r"
     ]
    }
   ],
   "source": [
    "model_dict = {}\n",
    "\n",
    "for method_name, (X_train_processed, _) in data_dict.items():\n",
    "    print(\"Training for the method: \" + method_name)\n",
    "    model = train_vae(X_train=X_train_processed, X_test=X_test, progress=True, num_epoch=250).eval()\n",
    "    model_dict[method_name] = model\n",
    "\n",
    "total_dict = {}\n",
    "\n",
    "for method_name, (X_train_processed, _) in data_dict.items():\n",
    "    model = model_dict[method_name]\n",
    "    total_dict[method_name] = (X_train_processed, _, model)"
   ]
  },
  {
   "cell_type": "code",
   "execution_count": 53,
   "metadata": {},
   "outputs": [
    {
     "data": {
      "image/png": "[encoded data removed]",
      "text/plain": [
       "<Figure size 2000x500 with 5 Axes>"
      ]
     },
     "metadata": {},
     "output_type": "display_data"
    }
   ],
   "source": [
    "# 计算有多少个方法\n",
    "num_methods = len(total_dict)\n",
    "\n",
    "# 创建一个包含多个子图的Figure\n",
    "fig, axes = plt.subplots(nrows=1, ncols=num_methods, figsize=(20, 5))\n",
    "\n",
    "# 遍历每个方法并在相应的子图中绘制散点图\n",
    "for i, (method_name, (X_train_processed, _, model)) in enumerate(total_dict.items()):\n",
    "    model.eval()\n",
    "    with torch.no_grad():\n",
    "        encoded_data = model.encoder(torch.Tensor(X_train_processed).to(device))\n",
    "        encoded_data = encoded_data.cpu().numpy()\n",
    "        tsne = TSNE(n_components=2)\n",
    "        reduced_data = tsne.fit_transform(encoded_data)\n",
    "\n",
    "    # 绘制每个方法的散点图\n",
    "    axes[i].scatter(reduced_data[:, 0], reduced_data[:, 1])\n",
    "    axes[i].set_title(f\"VAE Visualization for {method_name}\")\n",
    "\n",
    "# 调整布局，以防止子图重叠\n",
    "plt.tight_layout()\n",
    "plt.subplots_adjust(wspace=1.0)  # 调整水平间距\n",
    "plt.show()"
   ]
  },
  {
   "cell_type": "markdown",
   "metadata": {},
   "source": [
    "## LightGBM for VAE data"
   ]
  },
  {
   "cell_type": "code",
   "execution_count": 54,
   "metadata": {},
   "outputs": [
    {
     "name": "stderr",
     "output_type": "stream",
     "text": [
      "d:\\Docu\\DateMining\\.venv\\Lib\\site-packages\\sklearn\\metrics\\_classification.py:1469: UndefinedMetricWarning: Precision and F-score are ill-defined and being set to 0.0 in labels with no predicted samples. Use `zero_division` parameter to control this behavior.\n",
      "  _warn_prf(average, modifier, msg_start, len(result))\n",
      "d:\\Docu\\DateMining\\.venv\\Lib\\site-packages\\sklearn\\metrics\\_classification.py:1469: UndefinedMetricWarning: Precision and F-score are ill-defined and being set to 0.0 in labels with no predicted samples. Use `zero_division` parameter to control this behavior.\n",
      "  _warn_prf(average, modifier, msg_start, len(result))\n",
      "d:\\Docu\\DateMining\\.venv\\Lib\\site-packages\\sklearn\\metrics\\_classification.py:1469: UndefinedMetricWarning: Precision and F-score are ill-defined and being set to 0.0 in labels with no predicted samples. Use `zero_division` parameter to control this behavior.\n",
      "  _warn_prf(average, modifier, msg_start, len(result))\n"
     ]
    },
    {
     "name": "stdout",
     "output_type": "stream",
     "text": [
      "              precision    recall  f1-score   support\n",
      "\n",
      "           0       0.00      0.00      0.00        84\n",
      "           1       0.98      1.00      0.99      3665\n",
      "\n",
      "    accuracy                           0.98      3749\n",
      "   macro avg       0.49      0.50      0.49      3749\n",
      "weighted avg       0.96      0.98      0.97      3749\n",
      "\n",
      "              precision    recall  f1-score   support\n",
      "\n",
      "         0.0       0.00      0.00      0.00     300.0\n",
      "         1.0       0.00      0.00      0.00       0.0\n",
      "\n",
      "    accuracy                           0.00     300.0\n",
      "   macro avg       0.00      0.00      0.00     300.0\n",
      "weighted avg       0.00      0.00      0.00     300.0\n",
      "\n",
      "              precision    recall  f1-score   support\n",
      "\n",
      "           0       0.04      0.40      0.07        84\n",
      "           1       0.98      0.75      0.85      3665\n",
      "\n",
      "    accuracy                           0.74      3749\n",
      "   macro avg       0.51      0.58      0.46      3749\n",
      "weighted avg       0.96      0.74      0.83      3749\n",
      "\n",
      "              precision    recall  f1-score   support\n",
      "\n",
      "         0.0       1.00      0.43      0.60       300\n",
      "         1.0       0.00      0.00      0.00         0\n",
      "\n",
      "    accuracy                           0.43       300\n",
      "   macro avg       0.50      0.22      0.30       300\n",
      "weighted avg       1.00      0.43      0.60       300\n",
      "\n",
      "              precision    recall  f1-score   support\n",
      "\n",
      "           0       0.03      0.52      0.05        84\n",
      "           1       0.98      0.54      0.69      3665\n",
      "\n",
      "    accuracy                           0.54      3749\n",
      "   macro avg       0.50      0.53      0.37      3749\n",
      "weighted avg       0.96      0.54      0.68      3749\n",
      "\n",
      "              precision    recall  f1-score   support\n",
      "\n",
      "         0.0       1.00      0.54      0.70       300\n",
      "         1.0       0.00      0.00      0.00         0\n",
      "\n",
      "    accuracy                           0.54       300\n",
      "   macro avg       0.50      0.27      0.35       300\n",
      "weighted avg       1.00      0.54      0.70       300\n",
      "\n",
      "              precision    recall  f1-score   support\n",
      "\n",
      "           0       0.00      0.00      0.00        84\n",
      "           1       0.98      1.00      0.99      3665\n",
      "\n",
      "    accuracy                           0.98      3749\n",
      "   macro avg       0.49      0.50      0.49      3749\n",
      "weighted avg       0.96      0.98      0.97      3749\n",
      "\n",
      "              precision    recall  f1-score   support\n",
      "\n",
      "         0.0       0.00      0.00      0.00     300.0\n",
      "         1.0       0.00      0.00      0.00       0.0\n",
      "\n",
      "    accuracy                           0.00     300.0\n",
      "   macro avg       0.00      0.00      0.00     300.0\n",
      "weighted avg       0.00      0.00      0.00     300.0\n",
      "\n",
      "              precision    recall  f1-score   support\n",
      "\n",
      "           0       0.02      0.42      0.05        84\n",
      "           1       0.98      0.62      0.76      3665\n",
      "\n",
      "    accuracy                           0.61      3749\n",
      "   macro avg       0.50      0.52      0.40      3749\n",
      "weighted avg       0.96      0.61      0.74      3749\n",
      "\n",
      "              precision    recall  f1-score   support\n",
      "\n",
      "         0.0       1.00      0.68      0.81       300\n",
      "         1.0       0.00      0.00      0.00         0\n",
      "\n",
      "    accuracy                           0.68       300\n",
      "   macro avg       0.50      0.34      0.40       300\n",
      "weighted avg       1.00      0.68      0.81       300\n",
      "\n"
     ]
    },
    {
     "name": "stderr",
     "output_type": "stream",
     "text": [
      "d:\\Docu\\DateMining\\.venv\\Lib\\site-packages\\sklearn\\metrics\\_classification.py:1469: UndefinedMetricWarning: Precision and F-score are ill-defined and being set to 0.0 in labels with no predicted samples. Use `zero_division` parameter to control this behavior.\n",
      "  _warn_prf(average, modifier, msg_start, len(result))\n",
      "d:\\Docu\\DateMining\\.venv\\Lib\\site-packages\\sklearn\\metrics\\_classification.py:1469: UndefinedMetricWarning: Precision and F-score are ill-defined and being set to 0.0 in labels with no predicted samples. Use `zero_division` parameter to control this behavior.\n",
      "  _warn_prf(average, modifier, msg_start, len(result))\n",
      "d:\\Docu\\DateMining\\.venv\\Lib\\site-packages\\sklearn\\metrics\\_classification.py:1469: UndefinedMetricWarning: Precision and F-score are ill-defined and being set to 0.0 in labels with no predicted samples. Use `zero_division` parameter to control this behavior.\n",
      "  _warn_prf(average, modifier, msg_start, len(result))\n"
     ]
    }
   ],
   "source": [
    "for method_name, (X_train_processed, y_train_processed, model) in total_dict.items():\n",
    "    lgb_model = lgb.LGBMClassifier(**params, verbose=-1)\n",
    "\n",
    "    lgb_model.fit(model.encoder(torch.Tensor(X_train_processed).to(device)).cpu().detach().numpy(), y_train_processed)\n",
    "\n",
    "    y_pred = lgb_model.predict(model.encoder(torch.Tensor(X_test).to(device)).detach().cpu().numpy())\n",
    "\n",
    "    accuracy = accuracy_score(y_test, y_pred)\n",
    "    precision = precision_score(y_test, y_pred)\n",
    "    recall = recall_score(y_test, y_pred)\n",
    "    f1 = f1_score(y_test, y_pred)\n",
    "\n",
    "    print(classification_report(y_test, y_pred))\n",
    "    negative_data_pred = lgb_model.predict(model.encoder(torch.Tensor(negative_data).to(device)).detach().cpu().numpy())\n",
    "    negative_accuracy = accuracy_score(negative_label_list, negative_data_pred)\n",
    "\n",
    "    print(\n",
    "        classification_report(negative_label_list,\n",
    "                              negative_data_pred,\n",
    "                              zero_division=0))\n",
    "\n",
    "    performance_data.append({\n",
    "        'Classification Method': 'LightGBM for VAE data',\n",
    "        'Data Process Method': method_name,\n",
    "        'Accuracy': accuracy,\n",
    "        'Precision': precision,\n",
    "        'Recall': recall,\n",
    "        'F1 Score': f1,\n",
    "        'Negative Accuracy': negative_accuracy,\n",
    "    })\n"
   ]
  },
  {
   "cell_type": "markdown",
   "metadata": {},
   "source": [
    "## SVM for VAE data"
   ]
  },
  {
   "cell_type": "code",
   "execution_count": 55,
   "metadata": {},
   "outputs": [
    {
     "name": "stderr",
     "output_type": "stream",
     "text": [
      "d:\\Docu\\DateMining\\.venv\\Lib\\site-packages\\sklearn\\metrics\\_classification.py:1469: UndefinedMetricWarning: Precision and F-score are ill-defined and being set to 0.0 in labels with no predicted samples. Use `zero_division` parameter to control this behavior.\n",
      "  _warn_prf(average, modifier, msg_start, len(result))\n",
      "d:\\Docu\\DateMining\\.venv\\Lib\\site-packages\\sklearn\\metrics\\_classification.py:1469: UndefinedMetricWarning: Precision and F-score are ill-defined and being set to 0.0 in labels with no predicted samples. Use `zero_division` parameter to control this behavior.\n",
      "  _warn_prf(average, modifier, msg_start, len(result))\n",
      "d:\\Docu\\DateMining\\.venv\\Lib\\site-packages\\sklearn\\metrics\\_classification.py:1469: UndefinedMetricWarning: Precision and F-score are ill-defined and being set to 0.0 in labels with no predicted samples. Use `zero_division` parameter to control this behavior.\n",
      "  _warn_prf(average, modifier, msg_start, len(result))\n"
     ]
    },
    {
     "name": "stdout",
     "output_type": "stream",
     "text": [
      "              precision    recall  f1-score   support\n",
      "\n",
      "           0       0.00      0.00      0.00        84\n",
      "           1       0.98      1.00      0.99      3665\n",
      "\n",
      "    accuracy                           0.98      3749\n",
      "   macro avg       0.49      0.50      0.49      3749\n",
      "weighted avg       0.96      0.98      0.97      3749\n",
      "\n",
      "              precision    recall  f1-score   support\n",
      "\n",
      "         0.0       0.00      0.00      0.00     300.0\n",
      "         1.0       0.00      0.00      0.00       0.0\n",
      "\n",
      "    accuracy                           0.00     300.0\n",
      "   macro avg       0.00      0.00      0.00     300.0\n",
      "weighted avg       0.00      0.00      0.00     300.0\n",
      "\n",
      "              precision    recall  f1-score   support\n",
      "\n",
      "           0       0.04      0.42      0.07        84\n",
      "           1       0.98      0.76      0.86      3665\n",
      "\n",
      "    accuracy                           0.75      3749\n",
      "   macro avg       0.51      0.59      0.46      3749\n",
      "weighted avg       0.96      0.75      0.84      3749\n",
      "\n",
      "              precision    recall  f1-score   support\n",
      "\n",
      "         0.0       1.00      0.66      0.79       300\n",
      "         1.0       0.00      0.00      0.00         0\n",
      "\n",
      "    accuracy                           0.66       300\n",
      "   macro avg       0.50      0.33      0.40       300\n",
      "weighted avg       1.00      0.66      0.79       300\n",
      "\n",
      "              precision    recall  f1-score   support\n",
      "\n",
      "           0       0.03      0.49      0.05        84\n",
      "           1       0.98      0.58      0.73      3665\n",
      "\n",
      "    accuracy                           0.58      3749\n",
      "   macro avg       0.50      0.54      0.39      3749\n",
      "weighted avg       0.96      0.58      0.72      3749\n",
      "\n",
      "              precision    recall  f1-score   support\n",
      "\n",
      "         0.0       1.00      0.60      0.75       300\n",
      "         1.0       0.00      0.00      0.00         0\n",
      "\n",
      "    accuracy                           0.60       300\n",
      "   macro avg       0.50      0.30      0.37       300\n",
      "weighted avg       1.00      0.60      0.75       300\n",
      "\n"
     ]
    },
    {
     "name": "stderr",
     "output_type": "stream",
     "text": [
      "d:\\Docu\\DateMining\\.venv\\Lib\\site-packages\\sklearn\\metrics\\_classification.py:1469: UndefinedMetricWarning: Precision and F-score are ill-defined and being set to 0.0 in labels with no predicted samples. Use `zero_division` parameter to control this behavior.\n",
      "  _warn_prf(average, modifier, msg_start, len(result))\n",
      "d:\\Docu\\DateMining\\.venv\\Lib\\site-packages\\sklearn\\metrics\\_classification.py:1469: UndefinedMetricWarning: Precision and F-score are ill-defined and being set to 0.0 in labels with no predicted samples. Use `zero_division` parameter to control this behavior.\n",
      "  _warn_prf(average, modifier, msg_start, len(result))\n",
      "d:\\Docu\\DateMining\\.venv\\Lib\\site-packages\\sklearn\\metrics\\_classification.py:1469: UndefinedMetricWarning: Precision and F-score are ill-defined and being set to 0.0 in labels with no predicted samples. Use `zero_division` parameter to control this behavior.\n",
      "  _warn_prf(average, modifier, msg_start, len(result))\n"
     ]
    },
    {
     "name": "stdout",
     "output_type": "stream",
     "text": [
      "              precision    recall  f1-score   support\n",
      "\n",
      "           0       0.00      0.00      0.00        84\n",
      "           1       0.98      1.00      0.99      3665\n",
      "\n",
      "    accuracy                           0.98      3749\n",
      "   macro avg       0.49      0.50      0.49      3749\n",
      "weighted avg       0.96      0.98      0.97      3749\n",
      "\n",
      "              precision    recall  f1-score   support\n",
      "\n",
      "         0.0       0.00      0.00      0.00     300.0\n",
      "         1.0       0.00      0.00      0.00       0.0\n",
      "\n",
      "    accuracy                           0.00     300.0\n",
      "   macro avg       0.00      0.00      0.00     300.0\n",
      "weighted avg       0.00      0.00      0.00     300.0\n",
      "\n",
      "              precision    recall  f1-score   support\n",
      "\n",
      "           0       0.03      0.39      0.05        84\n",
      "           1       0.98      0.68      0.81      3665\n",
      "\n",
      "    accuracy                           0.68      3749\n",
      "   macro avg       0.50      0.54      0.43      3749\n",
      "weighted avg       0.96      0.68      0.79      3749\n",
      "\n",
      "              precision    recall  f1-score   support\n",
      "\n",
      "         0.0       1.00      0.75      0.85       300\n",
      "         1.0       0.00      0.00      0.00         0\n",
      "\n",
      "    accuracy                           0.75       300\n",
      "   macro avg       0.50      0.37      0.43       300\n",
      "weighted avg       1.00      0.75      0.85       300\n",
      "\n"
     ]
    }
   ],
   "source": [
    "for method_name, (X_train_processed, y_train_processed, model) in total_dict.items():\n",
    "    svm_model = SVC()\n",
    "    train_feature = model.encoder(torch.Tensor(X_train_processed).to(device)).cpu().detach().numpy()\n",
    "    test_feature = model.encoder(torch.Tensor(X_test).to(device)).detach().cpu().numpy()\n",
    "    svm_model.fit(train_feature, y_train_processed)\n",
    "    predictions = svm_model.predict(test_feature)\n",
    "    print(classification_report(y_test, predictions))\n",
    "    negative_predictions = svm_model.predict(model.encoder(torch.Tensor(negative_data).to(device)).detach().cpu().numpy())\n",
    "    print(\n",
    "        classification_report(negative_label_list,\n",
    "                              negative_predictions,\n",
    "                              zero_division=0))\n",
    "    accuracy = accuracy_score(y_test, predictions)\n",
    "    precision = precision_score(y_test, predictions)\n",
    "    recall = recall_score(y_test, predictions)\n",
    "    f1 = f1_score(y_test, predictions)\n",
    "    negative_accuracy = accuracy_score(negative_label_list, negative_predictions)\n",
    "    performance_data.append({\n",
    "        'Classification Method': 'SVM for VAE data',\n",
    "        'Data Process Method': method_name,\n",
    "        'Accuracy': accuracy,\n",
    "        'Precision': precision,\n",
    "        'Recall': recall,\n",
    "        'F1 Score': f1,\n",
    "        'Negative Accuracy': negative_accuracy,\n",
    "    })"
   ]
  },
  {
   "cell_type": "markdown",
   "metadata": {},
   "source": [
    "## AdaBoost for Decision Tree for VAE data"
   ]
  },
  {
   "cell_type": "code",
   "execution_count": 56,
   "metadata": {},
   "outputs": [
    {
     "name": "stdout",
     "output_type": "stream",
     "text": [
      "Classification Report for Original Data on Test Data:\n",
      "              precision    recall  f1-score   support\n",
      "\n",
      "           0       0.00      0.00      0.00        84\n",
      "           1       0.98      1.00      0.99      3665\n",
      "\n",
      "    accuracy                           0.98      3749\n",
      "   macro avg       0.49      0.50      0.49      3749\n",
      "weighted avg       0.96      0.98      0.97      3749\n",
      "\n",
      "Classification Report for Original Data on Negative Data:\n",
      "              precision    recall  f1-score   support\n",
      "\n",
      "         0.0       0.00      0.00      0.00     300.0\n",
      "         1.0       0.00      0.00      0.00       0.0\n",
      "\n",
      "    accuracy                           0.00     300.0\n",
      "   macro avg       0.00      0.00      0.00     300.0\n",
      "weighted avg       0.00      0.00      0.00     300.0\n",
      "\n",
      "Classification Report for Over-sampled Data on Test Data:\n",
      "              precision    recall  f1-score   support\n",
      "\n",
      "           0       0.03      0.50      0.05        84\n",
      "           1       0.98      0.61      0.75      3665\n",
      "\n",
      "    accuracy                           0.61      3749\n",
      "   macro avg       0.51      0.56      0.40      3749\n",
      "weighted avg       0.96      0.61      0.74      3749\n",
      "\n",
      "Classification Report for Over-sampled Data on Negative Data:\n",
      "              precision    recall  f1-score   support\n",
      "\n",
      "         0.0       1.00      0.60      0.75       300\n",
      "         1.0       0.00      0.00      0.00         0\n",
      "\n",
      "    accuracy                           0.60       300\n",
      "   macro avg       0.50      0.30      0.38       300\n",
      "weighted avg       1.00      0.60      0.75       300\n",
      "\n",
      "Classification Report for Under-sampled Data on Test Data:\n",
      "              precision    recall  f1-score   support\n",
      "\n",
      "           0       0.02      0.52      0.05        84\n",
      "           1       0.98      0.51      0.67      3665\n",
      "\n",
      "    accuracy                           0.51      3749\n",
      "   macro avg       0.50      0.52      0.36      3749\n",
      "weighted avg       0.96      0.51      0.65      3749\n",
      "\n",
      "Classification Report for Under-sampled Data on Negative Data:\n",
      "              precision    recall  f1-score   support\n",
      "\n",
      "         0.0       1.00      0.60      0.75       300\n",
      "         1.0       0.00      0.00      0.00         0\n",
      "\n",
      "    accuracy                           0.60       300\n",
      "   macro avg       0.50      0.30      0.38       300\n",
      "weighted avg       1.00      0.60      0.75       300\n",
      "\n",
      "Classification Report for Tomelinks Data on Test Data:\n",
      "              precision    recall  f1-score   support\n",
      "\n",
      "           0       0.00      0.00      0.00        84\n",
      "           1       0.98      1.00      0.99      3665\n",
      "\n",
      "    accuracy                           0.98      3749\n",
      "   macro avg       0.49      0.50      0.49      3749\n",
      "weighted avg       0.96      0.98      0.97      3749\n",
      "\n",
      "Classification Report for Tomelinks Data on Negative Data:\n",
      "              precision    recall  f1-score   support\n",
      "\n",
      "         0.0       0.00      0.00      0.00     300.0\n",
      "         1.0       0.00      0.00      0.00       0.0\n",
      "\n",
      "    accuracy                           0.00     300.0\n",
      "   macro avg       0.00      0.00      0.00     300.0\n",
      "weighted avg       0.00      0.00      0.00     300.0\n",
      "\n"
     ]
    },
    {
     "name": "stderr",
     "output_type": "stream",
     "text": [
      "d:\\Docu\\DateMining\\.venv\\Lib\\site-packages\\sklearn\\metrics\\_classification.py:1469: UndefinedMetricWarning: Precision and F-score are ill-defined and being set to 0.0 in labels with no predicted samples. Use `zero_division` parameter to control this behavior.\n",
      "  _warn_prf(average, modifier, msg_start, len(result))\n",
      "d:\\Docu\\DateMining\\.venv\\Lib\\site-packages\\sklearn\\metrics\\_classification.py:1469: UndefinedMetricWarning: Precision and F-score are ill-defined and being set to 0.0 in labels with no predicted samples. Use `zero_division` parameter to control this behavior.\n",
      "  _warn_prf(average, modifier, msg_start, len(result))\n",
      "d:\\Docu\\DateMining\\.venv\\Lib\\site-packages\\sklearn\\metrics\\_classification.py:1469: UndefinedMetricWarning: Precision and F-score are ill-defined and being set to 0.0 in labels with no predicted samples. Use `zero_division` parameter to control this behavior.\n",
      "  _warn_prf(average, modifier, msg_start, len(result))\n"
     ]
    },
    {
     "name": "stdout",
     "output_type": "stream",
     "text": [
      "Classification Report for SMOTE Data on Test Data:\n",
      "              precision    recall  f1-score   support\n",
      "\n",
      "           0       0.02      0.48      0.04        84\n",
      "           1       0.98      0.55      0.70      3665\n",
      "\n",
      "    accuracy                           0.55      3749\n",
      "   macro avg       0.50      0.51      0.37      3749\n",
      "weighted avg       0.96      0.55      0.69      3749\n",
      "\n",
      "Classification Report for SMOTE Data on Negative Data:\n",
      "              precision    recall  f1-score   support\n",
      "\n",
      "         0.0       1.00      0.64      0.78       300\n",
      "         1.0       0.00      0.00      0.00         0\n",
      "\n",
      "    accuracy                           0.64       300\n",
      "   macro avg       0.50      0.32      0.39       300\n",
      "weighted avg       1.00      0.64      0.78       300\n",
      "\n"
     ]
    }
   ],
   "source": [
    "for method_name, (X_train_processed, y_train_processed, model) in total_dict.items():\n",
    "    train_feature = model.encoder(torch.Tensor(X_train_processed).to(device)).cpu().detach().numpy()\n",
    "    test_feature = model.encoder(torch.Tensor(X_test).to(device)).detach().cpu().numpy()\n",
    "\n",
    "    # 使用决策树桩作为弱分类器，也可以选择其他弱分类器\n",
    "    base_classifier = DecisionTreeClassifier(max_depth=1)\n",
    "\n",
    "    # 使用AdaBoost分类器\n",
    "    adaboost = AdaBoostClassifier(base_classifier,\n",
    "                                  n_estimators=1000,\n",
    "                                  algorithm='SAMME',\n",
    "                                  random_state=42)\n",
    "\n",
    "    # 训练模型\n",
    "    adaboost.fit(train_feature, y_train_processed)\n",
    "\n",
    "    # 在测试集上进行预测和评估\n",
    "    predictions_test = adaboost.predict(test_feature)\n",
    "    print(f\"Classification Report for {method_name} on Test Data:\")\n",
    "    print(classification_report(y_test, predictions_test))\n",
    "\n",
    "    # 在负样本数据上进行预测和评估\n",
    "    predictions_negative = adaboost.predict(model.encoder(torch.Tensor(negative_data).to(device)).detach().cpu().numpy())\n",
    "    print(f\"Classification Report for {method_name} on Negative Data:\")\n",
    "    print(\n",
    "        classification_report(negative_label_list,\n",
    "                              predictions_negative,\n",
    "                              zero_division=0))\n",
    "    accuracy = accuracy_score(y_test, predictions_test)\n",
    "    precision = precision_score(y_test, predictions_test)\n",
    "    recall = recall_score(y_test, predictions_test)\n",
    "    f1 = f1_score(y_test, predictions_test)\n",
    "    negative_accuracy = accuracy_score(negative_label_list, predictions_negative)\n",
    "    performance_data.append({\n",
    "        'Classification Method': 'AdaBoost for Decision Tree with vae data',\n",
    "        'Data Process Method': method_name,\n",
    "        'Accuracy': accuracy,\n",
    "        'Precision': precision,\n",
    "        'Recall': recall,\n",
    "        'F1 Score': f1,\n",
    "        'Negative Accuracy': negative_accuracy,\n",
    "    })"
   ]
  },
  {
   "cell_type": "markdown",
   "metadata": {},
   "source": [
    "# Ensemble"
   ]
  },
  {
   "cell_type": "code",
   "execution_count": 57,
   "metadata": {},
   "outputs": [],
   "source": [
    "params = {\n",
    "    'boosting_type': 'gbdt',\n",
    "    'objective': 'binary',\n",
    "    'metrics': 'binary_logloss',\n",
    "    'learning_rate': 0.05,\n",
    "    'reg_lambda': 1.,\n",
    "    'reg_alpha': .1,\n",
    "    'max_depth': 5,\n",
    "    'n_estimators': 100,\n",
    "    'colsample_bytree': .5,\n",
    "    'min_child_samples': 100,\n",
    "    'subsample': .9,\n",
    "    'importance_type': 'gain',\n",
    "    'random_state': 71,\n",
    "    'num_leaves': 32,\n",
    "    'force_col_wise': True,\n",
    "    'scale_pos_weight': 1,\n",
    "    'bagging_freq': 5,\n",
    "}"
   ]
  },
  {
   "cell_type": "markdown",
   "metadata": {},
   "source": [
    "## Stacking"
   ]
  },
  {
   "cell_type": "code",
   "execution_count": 58,
   "metadata": {},
   "outputs": [],
   "source": [
    "# 使用决策树桩作为弱分类器，也可以选择其他弱分类器\n",
    "base_classifier = DecisionTreeClassifier(max_depth=1)\n",
    "\n",
    "# 使用AdaBoost分类器\n",
    "adaboost = AdaBoostClassifier(base_classifier,\n",
    "                              n_estimators=1000,\n",
    "                              algorithm='SAMME',\n",
    "                              random_state=42)\n",
    "\n",
    "X_train_processed = total_dict['Under-sampled Data'][0]\n",
    "\n",
    "# 训练模型\n",
    "adaboost.fit(X_train_under_random, y_train_under_random)\n",
    "\n",
    "# 在测试集上进行预测和评估\n",
    "predictions_ada = adaboost.predict(X_test)\n",
    "negative_accuracy_1 = adaboost.predict(negative_data)"
   ]
  },
  {
   "cell_type": "code",
   "execution_count": 59,
   "metadata": {},
   "outputs": [],
   "source": [
    "# 使用LightGBM分类器\n",
    "lgb_model = lgb.LGBMClassifier(**params, verbose=-1)\n",
    "\n",
    "# 训练模型\n",
    "lgb_model.fit(X_train_under_random, y_train_under_random)\n",
    "\n",
    "# 在测试集上进行预测和评估\n",
    "predictions_lgbm = lgb_model.predict(X_test)\n",
    "negative_accuracy_2 = lgb_model.predict(negative_data)"
   ]
  },
  {
   "cell_type": "code",
   "execution_count": 60,
   "metadata": {},
   "outputs": [
    {
     "name": "stdout",
     "output_type": "stream",
     "text": [
      "Ensemble Model Metrics:\n",
      "Accuracy: 0.9840\n",
      "Precision: 0.9840\n",
      "Recall: 1.0000\n",
      "F1 Score: 0.9919\n",
      "Negative Accuracy: 0.0000\n",
      "Classification Report for Ensemble Model:\n",
      "              precision    recall  f1-score   support\n",
      "\n",
      "           0       0.00      0.00      0.00        12\n",
      "           1       0.98      1.00      0.99       738\n",
      "\n",
      "    accuracy                           0.98       750\n",
      "   macro avg       0.49      0.50      0.50       750\n",
      "weighted avg       0.97      0.98      0.98       750\n",
      "\n"
     ]
    },
    {
     "name": "stderr",
     "output_type": "stream",
     "text": [
      "d:\\Docu\\DateMining\\.venv\\Lib\\site-packages\\sklearn\\metrics\\_classification.py:1469: UndefinedMetricWarning: Precision and F-score are ill-defined and being set to 0.0 in labels with no predicted samples. Use `zero_division` parameter to control this behavior.\n",
      "  _warn_prf(average, modifier, msg_start, len(result))\n",
      "d:\\Docu\\DateMining\\.venv\\Lib\\site-packages\\sklearn\\metrics\\_classification.py:1469: UndefinedMetricWarning: Precision and F-score are ill-defined and being set to 0.0 in labels with no predicted samples. Use `zero_division` parameter to control this behavior.\n",
      "  _warn_prf(average, modifier, msg_start, len(result))\n",
      "d:\\Docu\\DateMining\\.venv\\Lib\\site-packages\\sklearn\\metrics\\_classification.py:1469: UndefinedMetricWarning: Precision and F-score are ill-defined and being set to 0.0 in labels with no predicted samples. Use `zero_division` parameter to control this behavior.\n",
      "  _warn_prf(average, modifier, msg_start, len(result))\n"
     ]
    }
   ],
   "source": [
    "# 创建元模型\n",
    "meta_model = RandomForestClassifier(n_estimators=100, random_state=42)\n",
    "\n",
    "# 将基模型的预测结果作为特征\n",
    "X_ensemble = np.column_stack((predictions_ada, predictions_lgbm))\n",
    "negative_predictions = np.column_stack((negative_accuracy_1,negative_accuracy_2))\n",
    "\n",
    "# 划分数据集\n",
    "X_train_ensemble, X_test_ensemble, y_train_ensemble, y_test_ensemble = train_test_split(X_ensemble, y_test, test_size=0.2, random_state=42)\n",
    "\n",
    "# 训练元模型\n",
    "meta_model.fit(X_train_ensemble, y_train_ensemble)\n",
    "\n",
    "# 预测\n",
    "ensemble_predictions = meta_model.predict(X_test_ensemble)\n",
    "negative_predictions = meta_model.predict(negative_predictions)\n",
    "\n",
    "# 计算新的指标\n",
    "accuracy_ensemble = accuracy_score(y_test_ensemble, ensemble_predictions)\n",
    "negative_accuracy_ensemble = accuracy_score(negative_label_list, negative_predictions)\n",
    "precision_ensemble = precision_score(y_test_ensemble, ensemble_predictions)\n",
    "recall_ensemble = recall_score(y_test_ensemble, ensemble_predictions)\n",
    "f1_ensemble = f1_score(y_test_ensemble, ensemble_predictions)\n",
    "\n",
    "# 打印新的指标\n",
    "print(\"Ensemble Model Metrics:\")\n",
    "print(f\"Accuracy: {accuracy_ensemble:.4f}\")\n",
    "print(f\"Precision: {precision_ensemble:.4f}\")\n",
    "print(f\"Recall: {recall_ensemble:.4f}\")\n",
    "print(f\"F1 Score: {f1_ensemble:.4f}\")\n",
    "print(f\"Negative Accuracy: {negative_accuracy_ensemble:.4f}\")\n",
    "\n",
    "# 打印分类报告\n",
    "print(\"Classification Report for Ensemble Model:\")\n",
    "print(classification_report(y_test_ensemble, ensemble_predictions))\n",
    "performance_data.append({\n",
    "    'Classification Method': 'Stacking Ensemble Model for AdaBoost and LightGBM',\n",
    "    'Data Process Method': 'Under-sampled Data',\n",
    "    'Accuracy': accuracy,\n",
    "    'Precision': precision,\n",
    "    'Recall': recall,\n",
    "    'F1 Score': f1,\n",
    "    'Negative Accuracy': negative_accuracy_ensemble,\n",
    "})"
   ]
  },
  {
   "cell_type": "markdown",
   "metadata": {},
   "source": [
    "## Voting"
   ]
  },
  {
   "cell_type": "code",
   "execution_count": 61,
   "metadata": {},
   "outputs": [
    {
     "name": "stdout",
     "output_type": "stream",
     "text": [
      "Ensemble Model Metrics:\n",
      "Accuracy: 0.4583\n",
      "Precision: 0.9795\n",
      "Recall: 0.4554\n",
      "F1 Score: 0.6217\n",
      "Negative Accuracy: 0.6300\n",
      "Classification Report for Ensemble Model:\n",
      "              precision    recall  f1-score   support\n",
      "\n",
      "           0       0.02      0.58      0.05        84\n",
      "           1       0.98      0.46      0.62      3665\n",
      "\n",
      "    accuracy                           0.46      3749\n",
      "   macro avg       0.50      0.52      0.33      3749\n",
      "weighted avg       0.96      0.46      0.61      3749\n",
      "\n"
     ]
    }
   ],
   "source": [
    "# 创建投票分类器\n",
    "voting_model = VotingClassifier(estimators=[('adaboost', adaboost), ('lgbm', lgb_model)], voting='hard')\n",
    "\n",
    "# 训练投票模型\n",
    "voting_model.fit(X_train_under_random, y_train_under_random)\n",
    "\n",
    "# 预测\n",
    "ensemble_predictions = voting_model.predict(X_test)\n",
    "negative_predictions = voting_model.predict(negative_data)\n",
    "\n",
    "# 计算新的指标\n",
    "accuracy_ensemble = accuracy_score(y_test, ensemble_predictions)\n",
    "negative_accuracy_ensemble = accuracy_score(negative_label_list, negative_predictions)\n",
    "precision_ensemble = precision_score(y_test, ensemble_predictions)\n",
    "recall_ensemble = recall_score(y_test, ensemble_predictions)\n",
    "f1_ensemble = f1_score(y_test, ensemble_predictions)\n",
    "\n",
    "# 打印新的指标\n",
    "print(\"Ensemble Model Metrics:\")\n",
    "print(f\"Accuracy: {accuracy_ensemble:.4f}\")\n",
    "print(f\"Precision: {precision_ensemble:.4f}\")\n",
    "print(f\"Recall: {recall_ensemble:.4f}\")\n",
    "print(f\"F1 Score: {f1_ensemble:.4f}\")\n",
    "print(f\"Negative Accuracy: {negative_accuracy_ensemble:.4f}\")\n",
    "performance_data.append({\n",
    "    'Classification Method': 'Voting Ensemble Model for AdaBoost and LightGBM',\n",
    "    'Data Process Method': 'Under-sampled Data',\n",
    "    'Accuracy': accuracy,\n",
    "    'Precision': precision,\n",
    "    'Recall': recall,\n",
    "    'F1 Score': f1,\n",
    "    'Negative Accuracy': negative_accuracy_ensemble,\n",
    "})\n",
    "\n",
    "# 打印分类报告\n",
    "print(\"Classification Report for Ensemble Model:\")\n",
    "print(classification_report(y_test, ensemble_predictions))\n"
   ]
  },
  {
   "cell_type": "markdown",
   "metadata": {},
   "source": [
    "# Anomaly Detection"
   ]
  },
  {
   "cell_type": "markdown",
   "metadata": {},
   "source": [
    "## VAE"
   ]
  },
  {
   "cell_type": "code",
   "execution_count": 62,
   "metadata": {},
   "outputs": [
    {
     "name": "stdout",
     "output_type": "stream",
     "text": [
      "Training for the method: Original Data\n"
     ]
    },
    {
     "name": "stderr",
     "output_type": "stream",
     "text": [
      "Epoch 1/250:   0%|          | 0/3 [00:00<?, ?it/s]"
     ]
    },
    {
     "name": "stderr",
     "output_type": "stream",
     "text": [
      "                                                            \r"
     ]
    },
    {
     "name": "stdout",
     "output_type": "stream",
     "text": [
      "Best epoch: 249\n",
      "Training for the method: Over-sampled Data\n"
     ]
    },
    {
     "name": "stderr",
     "output_type": "stream",
     "text": [
      "                                                            \r"
     ]
    },
    {
     "name": "stdout",
     "output_type": "stream",
     "text": [
      "Best epoch: 249\n",
      "Training for the method: Under-sampled Data\n"
     ]
    },
    {
     "name": "stderr",
     "output_type": "stream",
     "text": [
      "                                                    \r"
     ]
    },
    {
     "name": "stdout",
     "output_type": "stream",
     "text": [
      "Best epoch: 249\n",
      "Training for the method: Tomelinks Data\n"
     ]
    },
    {
     "name": "stderr",
     "output_type": "stream",
     "text": [
      "                                                            \r"
     ]
    },
    {
     "name": "stdout",
     "output_type": "stream",
     "text": [
      "Best epoch: 249\n",
      "Training for the method: SMOTE Data\n"
     ]
    },
    {
     "name": "stderr",
     "output_type": "stream",
     "text": [
      "                                                            "
     ]
    },
    {
     "name": "stdout",
     "output_type": "stream",
     "text": [
      "Best epoch: 249\n"
     ]
    },
    {
     "name": "stderr",
     "output_type": "stream",
     "text": [
      "\r"
     ]
    }
   ],
   "source": [
    "Anomal_dict = {}\n",
    "Anomal_model_list = []\n",
    "\n",
    "for method_name, (X_train_processed, _) in data_dict.items():\n",
    "    print(\"Training for the method: \" + method_name)\n",
    "    model = train_vae_anomaly_detection(X_train=X_train_processed, X_test=X_test, progress=True, num_epoch=250).eval()\n",
    "    Anomal_model_list.append(model)\n",
    "    Anomal_dict[method_name] = (X_train_processed, _, model)"
   ]
  },
  {
   "cell_type": "code",
   "execution_count": 63,
   "metadata": {},
   "outputs": [
    {
     "name": "stderr",
     "output_type": "stream",
     "text": [
      "d:\\Docu\\DateMining\\.venv\\Lib\\site-packages\\sklearn\\metrics\\_classification.py:1469: UndefinedMetricWarning: Precision and F-score are ill-defined and being set to 0.0 in labels with no predicted samples. Use `zero_division` parameter to control this behavior.\n",
      "  _warn_prf(average, modifier, msg_start, len(result))\n",
      "d:\\Docu\\DateMining\\.venv\\Lib\\site-packages\\sklearn\\metrics\\_classification.py:1469: UndefinedMetricWarning: Precision and F-score are ill-defined and being set to 0.0 in labels with no predicted samples. Use `zero_division` parameter to control this behavior.\n",
      "  _warn_prf(average, modifier, msg_start, len(result))\n",
      "d:\\Docu\\DateMining\\.venv\\Lib\\site-packages\\sklearn\\metrics\\_classification.py:1469: UndefinedMetricWarning: Precision and F-score are ill-defined and being set to 0.0 in labels with no predicted samples. Use `zero_division` parameter to control this behavior.\n",
      "  _warn_prf(average, modifier, msg_start, len(result))\n",
      "d:\\Docu\\DateMining\\.venv\\Lib\\site-packages\\sklearn\\metrics\\_classification.py:1469: UndefinedMetricWarning: Precision and F-score are ill-defined and being set to 0.0 in labels with no predicted samples. Use `zero_division` parameter to control this behavior.\n",
      "  _warn_prf(average, modifier, msg_start, len(result))\n",
      "d:\\Docu\\DateMining\\.venv\\Lib\\site-packages\\sklearn\\metrics\\_classification.py:1469: UndefinedMetricWarning: Precision and F-score are ill-defined and being set to 0.0 in labels with no predicted samples. Use `zero_division` parameter to control this behavior.\n",
      "  _warn_prf(average, modifier, msg_start, len(result))\n",
      "d:\\Docu\\DateMining\\.venv\\Lib\\site-packages\\sklearn\\metrics\\_classification.py:1469: UndefinedMetricWarning: Precision and F-score are ill-defined and being set to 0.0 in labels with no predicted samples. Use `zero_division` parameter to control this behavior.\n",
      "  _warn_prf(average, modifier, msg_start, len(result))\n",
      "d:\\Docu\\DateMining\\.venv\\Lib\\site-packages\\sklearn\\metrics\\_classification.py:1469: UndefinedMetricWarning: Precision and F-score are ill-defined and being set to 0.0 in labels with no predicted samples. Use `zero_division` parameter to control this behavior.\n",
      "  _warn_prf(average, modifier, msg_start, len(result))\n",
      "d:\\Docu\\DateMining\\.venv\\Lib\\site-packages\\sklearn\\metrics\\_classification.py:1469: UndefinedMetricWarning: Precision and F-score are ill-defined and being set to 0.0 in labels with no predicted samples. Use `zero_division` parameter to control this behavior.\n",
      "  _warn_prf(average, modifier, msg_start, len(result))\n",
      "d:\\Docu\\DateMining\\.venv\\Lib\\site-packages\\sklearn\\metrics\\_classification.py:1469: UndefinedMetricWarning: Precision and F-score are ill-defined and being set to 0.0 in labels with no predicted samples. Use `zero_division` parameter to control this behavior.\n",
      "  _warn_prf(average, modifier, msg_start, len(result))\n",
      "d:\\Docu\\DateMining\\.venv\\Lib\\site-packages\\sklearn\\metrics\\_classification.py:1469: UndefinedMetricWarning: Precision and F-score are ill-defined and being set to 0.0 in labels with no predicted samples. Use `zero_division` parameter to control this behavior.\n",
      "  _warn_prf(average, modifier, msg_start, len(result))\n",
      "d:\\Docu\\DateMining\\.venv\\Lib\\site-packages\\sklearn\\metrics\\_classification.py:1469: UndefinedMetricWarning: Precision and F-score are ill-defined and being set to 0.0 in labels with no predicted samples. Use `zero_division` parameter to control this behavior.\n",
      "  _warn_prf(average, modifier, msg_start, len(result))\n",
      "d:\\Docu\\DateMining\\.venv\\Lib\\site-packages\\sklearn\\metrics\\_classification.py:1469: UndefinedMetricWarning: Precision and F-score are ill-defined and being set to 0.0 in labels with no predicted samples. Use `zero_division` parameter to control this behavior.\n",
      "  _warn_prf(average, modifier, msg_start, len(result))\n",
      "d:\\Docu\\DateMining\\.venv\\Lib\\site-packages\\sklearn\\metrics\\_classification.py:1469: UndefinedMetricWarning: Precision and F-score are ill-defined and being set to 0.0 in labels with no predicted samples. Use `zero_division` parameter to control this behavior.\n",
      "  _warn_prf(average, modifier, msg_start, len(result))\n",
      "d:\\Docu\\DateMining\\.venv\\Lib\\site-packages\\sklearn\\metrics\\_classification.py:1469: UndefinedMetricWarning: Precision and F-score are ill-defined and being set to 0.0 in labels with no predicted samples. Use `zero_division` parameter to control this behavior.\n",
      "  _warn_prf(average, modifier, msg_start, len(result))\n",
      "d:\\Docu\\DateMining\\.venv\\Lib\\site-packages\\sklearn\\metrics\\_classification.py:1469: UndefinedMetricWarning: Precision and F-score are ill-defined and being set to 0.0 in labels with no predicted samples. Use `zero_division` parameter to control this behavior.\n",
      "  _warn_prf(average, modifier, msg_start, len(result))\n",
      "d:\\Docu\\DateMining\\.venv\\Lib\\site-packages\\sklearn\\metrics\\_classification.py:1469: UndefinedMetricWarning: Precision and F-score are ill-defined and being set to 0.0 in labels with no predicted samples. Use `zero_division` parameter to control this behavior.\n",
      "  _warn_prf(average, modifier, msg_start, len(result))\n",
      "d:\\Docu\\DateMining\\.venv\\Lib\\site-packages\\sklearn\\metrics\\_classification.py:1469: UndefinedMetricWarning: Precision and F-score are ill-defined and being set to 0.0 in labels with no predicted samples. Use `zero_division` parameter to control this behavior.\n",
      "  _warn_prf(average, modifier, msg_start, len(result))\n",
      "d:\\Docu\\DateMining\\.venv\\Lib\\site-packages\\sklearn\\metrics\\_classification.py:1469: UndefinedMetricWarning: Precision and F-score are ill-defined and being set to 0.0 in labels with no predicted samples. Use `zero_division` parameter to control this behavior.\n",
      "  _warn_prf(average, modifier, msg_start, len(result))\n",
      "d:\\Docu\\DateMining\\.venv\\Lib\\site-packages\\sklearn\\metrics\\_classification.py:1469: UndefinedMetricWarning: Precision and F-score are ill-defined and being set to 0.0 in labels with no predicted samples. Use `zero_division` parameter to control this behavior.\n",
      "  _warn_prf(average, modifier, msg_start, len(result))\n"
     ]
    },
    {
     "name": "stdout",
     "output_type": "stream",
     "text": [
      "              precision    recall  f1-score   support\n",
      "\n",
      "           0       0.00      0.00      0.00        84\n",
      "           1       0.98      1.00      0.99      3665\n",
      "\n",
      "    accuracy                           0.98      3749\n",
      "   macro avg       0.49      0.50      0.49      3749\n",
      "weighted avg       0.96      0.98      0.97      3749\n",
      "\n",
      "              precision    recall  f1-score   support\n",
      "\n",
      "         0.0       0.00      0.00      0.00     300.0\n",
      "         1.0       0.00      0.00      0.00       0.0\n",
      "\n",
      "    accuracy                           0.00     300.0\n",
      "   macro avg       0.00      0.00      0.00     300.0\n",
      "weighted avg       0.00      0.00      0.00     300.0\n",
      "\n",
      "              precision    recall  f1-score   support\n",
      "\n",
      "           0       0.00      0.00      0.00        84\n",
      "           1       0.98      1.00      0.99      3665\n",
      "\n",
      "    accuracy                           0.98      3749\n",
      "   macro avg       0.49      0.50      0.49      3749\n",
      "weighted avg       0.96      0.98      0.97      3749\n",
      "\n",
      "              precision    recall  f1-score   support\n",
      "\n",
      "         0.0       0.00      0.00      0.00     300.0\n",
      "         1.0       0.00      0.00      0.00       0.0\n",
      "\n",
      "    accuracy                           0.00     300.0\n",
      "   macro avg       0.00      0.00      0.00     300.0\n",
      "weighted avg       0.00      0.00      0.00     300.0\n",
      "\n",
      "              precision    recall  f1-score   support\n",
      "\n",
      "           0       0.00      0.00      0.00        84\n",
      "           1       0.98      1.00      0.99      3665\n",
      "\n",
      "    accuracy                           0.98      3749\n",
      "   macro avg       0.49      0.50      0.49      3749\n",
      "weighted avg       0.96      0.98      0.97      3749\n",
      "\n",
      "              precision    recall  f1-score   support\n",
      "\n",
      "         0.0       0.00      0.00      0.00     300.0\n",
      "         1.0       0.00      0.00      0.00       0.0\n",
      "\n",
      "    accuracy                           0.00     300.0\n",
      "   macro avg       0.00      0.00      0.00     300.0\n",
      "weighted avg       0.00      0.00      0.00     300.0\n",
      "\n",
      "              precision    recall  f1-score   support\n",
      "\n",
      "           0       0.00      0.00      0.00        84\n",
      "           1       0.98      1.00      0.99      3665\n",
      "\n",
      "    accuracy                           0.98      3749\n",
      "   macro avg       0.49      0.50      0.49      3749\n",
      "weighted avg       0.96      0.98      0.97      3749\n",
      "\n",
      "              precision    recall  f1-score   support\n",
      "\n",
      "         0.0       0.00      0.00      0.00     300.0\n",
      "         1.0       0.00      0.00      0.00       0.0\n",
      "\n",
      "    accuracy                           0.00     300.0\n",
      "   macro avg       0.00      0.00      0.00     300.0\n",
      "weighted avg       0.00      0.00      0.00     300.0\n",
      "\n",
      "              precision    recall  f1-score   support\n",
      "\n",
      "           0       0.00      0.00      0.00        84\n",
      "           1       0.98      1.00      0.99      3665\n",
      "\n",
      "    accuracy                           0.98      3749\n",
      "   macro avg       0.49      0.50      0.49      3749\n",
      "weighted avg       0.96      0.98      0.97      3749\n",
      "\n",
      "              precision    recall  f1-score   support\n",
      "\n",
      "         0.0       0.00      0.00      0.00     300.0\n",
      "         1.0       0.00      0.00      0.00       0.0\n",
      "\n",
      "    accuracy                           0.00     300.0\n",
      "   macro avg       0.00      0.00      0.00     300.0\n",
      "weighted avg       0.00      0.00      0.00     300.0\n",
      "\n"
     ]
    },
    {
     "name": "stderr",
     "output_type": "stream",
     "text": [
      "d:\\Docu\\DateMining\\.venv\\Lib\\site-packages\\sklearn\\metrics\\_classification.py:1469: UndefinedMetricWarning: Precision and F-score are ill-defined and being set to 0.0 in labels with no predicted samples. Use `zero_division` parameter to control this behavior.\n",
      "  _warn_prf(average, modifier, msg_start, len(result))\n",
      "d:\\Docu\\DateMining\\.venv\\Lib\\site-packages\\sklearn\\metrics\\_classification.py:1469: UndefinedMetricWarning: Precision and F-score are ill-defined and being set to 0.0 in labels with no predicted samples. Use `zero_division` parameter to control this behavior.\n",
      "  _warn_prf(average, modifier, msg_start, len(result))\n",
      "d:\\Docu\\DateMining\\.venv\\Lib\\site-packages\\sklearn\\metrics\\_classification.py:1469: UndefinedMetricWarning: Precision and F-score are ill-defined and being set to 0.0 in labels with no predicted samples. Use `zero_division` parameter to control this behavior.\n",
      "  _warn_prf(average, modifier, msg_start, len(result))\n",
      "d:\\Docu\\DateMining\\.venv\\Lib\\site-packages\\sklearn\\metrics\\_classification.py:1469: UndefinedMetricWarning: Precision and F-score are ill-defined and being set to 0.0 in labels with no predicted samples. Use `zero_division` parameter to control this behavior.\n",
      "  _warn_prf(average, modifier, msg_start, len(result))\n",
      "d:\\Docu\\DateMining\\.venv\\Lib\\site-packages\\sklearn\\metrics\\_classification.py:1469: UndefinedMetricWarning: Precision and F-score are ill-defined and being set to 0.0 in labels with no predicted samples. Use `zero_division` parameter to control this behavior.\n",
      "  _warn_prf(average, modifier, msg_start, len(result))\n",
      "d:\\Docu\\DateMining\\.venv\\Lib\\site-packages\\sklearn\\metrics\\_classification.py:1469: UndefinedMetricWarning: Precision and F-score are ill-defined and being set to 0.0 in labels with no predicted samples. Use `zero_division` parameter to control this behavior.\n",
      "  _warn_prf(average, modifier, msg_start, len(result))\n",
      "d:\\Docu\\DateMining\\.venv\\Lib\\site-packages\\sklearn\\metrics\\_classification.py:1469: UndefinedMetricWarning: Precision and F-score are ill-defined and being set to 0.0 in labels with no predicted samples. Use `zero_division` parameter to control this behavior.\n",
      "  _warn_prf(average, modifier, msg_start, len(result))\n",
      "d:\\Docu\\DateMining\\.venv\\Lib\\site-packages\\sklearn\\metrics\\_classification.py:1469: UndefinedMetricWarning: Precision and F-score are ill-defined and being set to 0.0 in labels with no predicted samples. Use `zero_division` parameter to control this behavior.\n",
      "  _warn_prf(average, modifier, msg_start, len(result))\n",
      "d:\\Docu\\DateMining\\.venv\\Lib\\site-packages\\sklearn\\metrics\\_classification.py:1469: UndefinedMetricWarning: Precision and F-score are ill-defined and being set to 0.0 in labels with no predicted samples. Use `zero_division` parameter to control this behavior.\n",
      "  _warn_prf(average, modifier, msg_start, len(result))\n",
      "d:\\Docu\\DateMining\\.venv\\Lib\\site-packages\\sklearn\\metrics\\_classification.py:1469: UndefinedMetricWarning: Precision and F-score are ill-defined and being set to 0.0 in labels with no predicted samples. Use `zero_division` parameter to control this behavior.\n",
      "  _warn_prf(average, modifier, msg_start, len(result))\n",
      "d:\\Docu\\DateMining\\.venv\\Lib\\site-packages\\sklearn\\metrics\\_classification.py:1469: UndefinedMetricWarning: Precision and F-score are ill-defined and being set to 0.0 in labels with no predicted samples. Use `zero_division` parameter to control this behavior.\n",
      "  _warn_prf(average, modifier, msg_start, len(result))\n"
     ]
    }
   ],
   "source": [
    "for method_name, (X_train_processed, _, model) in Anomal_dict.items():\n",
    "    predictions = model.predict_anomaly(\n",
    "        torch.Tensor(X_test).to(device),\n",
    "        threshold=0.05).detach().cpu().numpy()\n",
    "    negative_data_pred = model.predict_anomaly(\n",
    "        torch.Tensor(negative_data).to(device),\n",
    "        threshold=0.05).detach().cpu().numpy()\n",
    "\n",
    "    # 计算评估指标\n",
    "    report_test = classification_report(y_test, predictions, output_dict=True)\n",
    "    report_negative = classification_report(negative_label_list, negative_data_pred, output_dict=True, zero_division=0)\n",
    "\n",
    "    # 提取指标\n",
    "    accuracy = accuracy_score(y_test, predictions)\n",
    "    precision = report_test['1']['precision']\n",
    "    recall = report_test['1']['recall']\n",
    "    f1 = report_test['1']['f1-score']\n",
    "    negative_accuracy = accuracy_score(negative_label_list, negative_data_pred)\n",
    "\n",
    "    print(classification_report(y_test, predictions))\n",
    "    print(\n",
    "        classification_report(negative_label_list,\n",
    "                              negative_data_pred,\n",
    "                              zero_division=0))\n",
    "    # 添加到 performance_data 列表中\n",
    "    performance_data.append({\n",
    "        'Classification Method': 'Anomaly Detection with VAE',\n",
    "        'Data Process Method': method_name,\n",
    "        'Accuracy': accuracy,\n",
    "        'Precision': precision,\n",
    "        'Recall': recall,\n",
    "        'F1 Score': f1,\n",
    "        'Negative Accuracy': negative_accuracy,\n",
    "    })"
   ]
  },
  {
   "cell_type": "code",
   "execution_count": 64,
   "metadata": {},
   "outputs": [
    {
     "name": "stdout",
     "output_type": "stream",
     "text": [
      "best Accuracy Classification Method: LightGBM\n",
      "Best Accuracy Data Process Method: Original Data\n",
      "Best Accuracy Value: 0.978\n",
      "best Accuracy Classification Method: LightGBM\n",
      "Best Precision Data Process Method: SMOTE Data\n",
      "Best Precision Value: 0.984\n",
      "best Accuracy Classification Method: LightGBM\n",
      "Best Recall Data Process Method: Original Data\n",
      "Best Recall Value: 1.0\n",
      "best Accuracy Classification Method: LightGBM\n",
      "Best F1 Score Data Process Method: Original Data\n",
      "Best F1 Score Value: 0.989\n",
      "best Accuracy Classification Method: LightGBM\n",
      "Best Negative Accuracy Data Process Method: SMOTE Data\n",
      "Best Negative Accuracy Value: 1.0\n"
     ]
    }
   ],
   "source": [
    "data_df = pd.DataFrame(performance_data)\n",
    "data_df = data_df.round({'Accuracy': 3, 'Precision': 3, 'Recall': 3, 'F1 Score': 3, 'Negative Accuracy': 3})\n",
    "\n",
    "# 找到最佳性能数据的行\n",
    "best_accuracy_row = data_df[data_df['Accuracy'] == data_df['Accuracy'].max()]\n",
    "best_precision_row = data_df[data_df['Precision'] == data_df['Precision'].max()]\n",
    "best_recall_row = data_df[data_df['Recall'] == data_df['Recall'].max()]\n",
    "best_f1_score_row = data_df[data_df['F1 Score'] == data_df['F1 Score'].max()]\n",
    "best_negative_accuracy_row = data_df[data_df['Negative Accuracy'] == data_df['Negative Accuracy'].max()]\n",
    "\n",
    "# 输出最佳性能数据\n",
    "print(\"best Accuracy Classification Method:\", best_accuracy_row['Classification Method'].values[0])\n",
    "print(\"Best Accuracy Data Process Method:\", best_accuracy_row['Data Process Method'].values[0])\n",
    "print(\"Best Accuracy Value:\", best_accuracy_row['Accuracy'].values[0])\n",
    "\n",
    "print(\"best Accuracy Classification Method:\", best_precision_row['Classification Method'].values[0])\n",
    "print(\"Best Precision Data Process Method:\", best_precision_row['Data Process Method'].values[0])\n",
    "print(\"Best Precision Value:\", best_precision_row['Precision'].values[0])\n",
    "\n",
    "print(\"best Accuracy Classification Method:\", best_recall_row['Classification Method'].values[0])\n",
    "print(\"Best Recall Data Process Method:\", best_recall_row['Data Process Method'].values[0])\n",
    "print(\"Best Recall Value:\", best_recall_row['Recall'].values[0])\n",
    "\n",
    "print(\"best Accuracy Classification Method:\", best_f1_score_row['Classification Method'].values[0])\n",
    "print(\"Best F1 Score Data Process Method:\", best_f1_score_row['Data Process Method'].values[0])\n",
    "print(\"Best F1 Score Value:\", best_f1_score_row['F1 Score'].values[0])\n",
    "\n",
    "\n",
    "print(\"best Accuracy Classification Method:\", best_negative_accuracy_row['Classification Method'].values[0])\n",
    "print(\"Best Negative Accuracy Data Process Method:\", best_negative_accuracy_row['Data Process Method'].values[0])\n",
    "print(\"Best Negative Accuracy Value:\", best_negative_accuracy_row['Negative Accuracy'].values[0])\n",
    "data_df.to_csv('output/performance_data.csv', index=False)"
   ]
  }
 ],
 "metadata": {
  "kernelspec": {
   "display_name": ".venv",
   "language": "python",
   "name": "python3"
  },
  "language_info": {
   "codemirror_mode": {
    "name": "ipython",
    "version": 3
   },
   "file_extension": ".py",
   "mimetype": "text/x-python",
   "name": "python",
   "nbconvert_exporter": "python",
   "pygments_lexer": "ipython3",
   "version": "3.11.5"
  }
 },
 "nbformat": 4,
 "nbformat_minor": 2
}
