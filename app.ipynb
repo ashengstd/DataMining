{
 "cells": [
  {
   "cell_type": "markdown",
   "metadata": {},
   "source": [
    "# 引入必要库"
   ]
  },
  {
   "cell_type": "code",
   "execution_count": 1,
   "metadata": {},
   "outputs": [],
   "source": [
    "# 引入必要库\n",
    "import pandas as pd\n",
    "import numpy as np\n",
    "import torch\n",
    "import lightgbm as lgb\n",
    "\n",
    "from sklearn.model_selection import train_test_split\n",
    "from sklearn.svm import SVC\n",
    "from sklearn.manifold import TSNE\n",
    "from sklearn.metrics import classification_report, accuracy_score, precision_score, recall_score, f1_score\n",
    "from sklearn.ensemble import RandomForestClassifier, AdaBoostClassifier, VotingClassifier\n",
    "from sklearn.preprocessing import StandardScaler\n",
    "from sklearn.tree import DecisionTreeClassifier\n",
    "from imblearn.under_sampling import RandomUnderSampler, TomekLinks\n",
    "from imblearn.over_sampling import RandomOverSampler, SMOTE\n",
    "from matplotlib import pyplot as plt\n",
    "from model.vae_pipeline import train_vae\n",
    "from model.anomaly_detection_pipeline import train_vae_anomaly_detection\n",
    "\n",
    "# 选择设备\n",
    "device = torch.device(\"cuda:0\" if torch.cuda.is_available() else \"cpu\")"
   ]
  },
  {
   "cell_type": "markdown",
   "metadata": {},
   "source": [
    "# 数据准备"
   ]
  },
  {
   "cell_type": "code",
   "execution_count": 2,
   "metadata": {},
   "outputs": [
    {
     "ename": "ParserError",
     "evalue": "Error tokenizing data. C error: Calling read(nbytes) on source failed. Try engine='python'.",
     "output_type": "error",
     "traceback": [
      "\u001b[1;31m---------------------------------------------------------------------------\u001b[0m",
      "\u001b[1;31mParserError\u001b[0m                               Traceback (most recent call last)",
      "\u001b[1;32md:\\Docu\\DateMining\\app.ipynb 单元格 4\u001b[0m line \u001b[0;36m1\n\u001b[1;32m----> <a href='vscode-notebook-cell:/d%3A/Docu/DateMining/app.ipynb#W3sZmlsZQ%3D%3D?line=0'>1</a>\u001b[0m df_application_record \u001b[39m=\u001b[39m pd\u001b[39m.\u001b[39;49mread_csv(\u001b[39m\"\u001b[39;49m\u001b[39mdataset/application_record.csv\u001b[39;49m\u001b[39m\"\u001b[39;49m)\n\u001b[0;32m      <a href='vscode-notebook-cell:/d%3A/Docu/DateMining/app.ipynb#W3sZmlsZQ%3D%3D?line=1'>2</a>\u001b[0m df_credit_record \u001b[39m=\u001b[39m pd\u001b[39m.\u001b[39mread_csv(\u001b[39m\"\u001b[39m\u001b[39mdataset/credit_record.csv\u001b[39m\u001b[39m\"\u001b[39m)\n",
      "File \u001b[1;32md:\\Docu\\DateMining\\.venv\\Lib\\site-packages\\pandas\\io\\parsers\\readers.py:948\u001b[0m, in \u001b[0;36mread_csv\u001b[1;34m(filepath_or_buffer, sep, delimiter, header, names, index_col, usecols, dtype, engine, converters, true_values, false_values, skipinitialspace, skiprows, skipfooter, nrows, na_values, keep_default_na, na_filter, verbose, skip_blank_lines, parse_dates, infer_datetime_format, keep_date_col, date_parser, date_format, dayfirst, cache_dates, iterator, chunksize, compression, thousands, decimal, lineterminator, quotechar, quoting, doublequote, escapechar, comment, encoding, encoding_errors, dialect, on_bad_lines, delim_whitespace, low_memory, memory_map, float_precision, storage_options, dtype_backend)\u001b[0m\n\u001b[0;32m    935\u001b[0m kwds_defaults \u001b[39m=\u001b[39m _refine_defaults_read(\n\u001b[0;32m    936\u001b[0m     dialect,\n\u001b[0;32m    937\u001b[0m     delimiter,\n\u001b[1;32m   (...)\u001b[0m\n\u001b[0;32m    944\u001b[0m     dtype_backend\u001b[39m=\u001b[39mdtype_backend,\n\u001b[0;32m    945\u001b[0m )\n\u001b[0;32m    946\u001b[0m kwds\u001b[39m.\u001b[39mupdate(kwds_defaults)\n\u001b[1;32m--> 948\u001b[0m \u001b[39mreturn\u001b[39;00m _read(filepath_or_buffer, kwds)\n",
      "File \u001b[1;32md:\\Docu\\DateMining\\.venv\\Lib\\site-packages\\pandas\\io\\parsers\\readers.py:617\u001b[0m, in \u001b[0;36m_read\u001b[1;34m(filepath_or_buffer, kwds)\u001b[0m\n\u001b[0;32m    614\u001b[0m     \u001b[39mreturn\u001b[39;00m parser\n\u001b[0;32m    616\u001b[0m \u001b[39mwith\u001b[39;00m parser:\n\u001b[1;32m--> 617\u001b[0m     \u001b[39mreturn\u001b[39;00m parser\u001b[39m.\u001b[39;49mread(nrows)\n",
      "File \u001b[1;32md:\\Docu\\DateMining\\.venv\\Lib\\site-packages\\pandas\\io\\parsers\\readers.py:1748\u001b[0m, in \u001b[0;36mTextFileReader.read\u001b[1;34m(self, nrows)\u001b[0m\n\u001b[0;32m   1741\u001b[0m nrows \u001b[39m=\u001b[39m validate_integer(\u001b[39m\"\u001b[39m\u001b[39mnrows\u001b[39m\u001b[39m\"\u001b[39m, nrows)\n\u001b[0;32m   1742\u001b[0m \u001b[39mtry\u001b[39;00m:\n\u001b[0;32m   1743\u001b[0m     \u001b[39m# error: \"ParserBase\" has no attribute \"read\"\u001b[39;00m\n\u001b[0;32m   1744\u001b[0m     (\n\u001b[0;32m   1745\u001b[0m         index,\n\u001b[0;32m   1746\u001b[0m         columns,\n\u001b[0;32m   1747\u001b[0m         col_dict,\n\u001b[1;32m-> 1748\u001b[0m     ) \u001b[39m=\u001b[39m \u001b[39mself\u001b[39;49m\u001b[39m.\u001b[39;49m_engine\u001b[39m.\u001b[39;49mread(  \u001b[39m# type: ignore[attr-defined]\u001b[39;49;00m\n\u001b[0;32m   1749\u001b[0m         nrows\n\u001b[0;32m   1750\u001b[0m     )\n\u001b[0;32m   1751\u001b[0m \u001b[39mexcept\u001b[39;00m \u001b[39mException\u001b[39;00m:\n\u001b[0;32m   1752\u001b[0m     \u001b[39mself\u001b[39m\u001b[39m.\u001b[39mclose()\n",
      "File \u001b[1;32md:\\Docu\\DateMining\\.venv\\Lib\\site-packages\\pandas\\io\\parsers\\c_parser_wrapper.py:234\u001b[0m, in \u001b[0;36mCParserWrapper.read\u001b[1;34m(self, nrows)\u001b[0m\n\u001b[0;32m    232\u001b[0m \u001b[39mtry\u001b[39;00m:\n\u001b[0;32m    233\u001b[0m     \u001b[39mif\u001b[39;00m \u001b[39mself\u001b[39m\u001b[39m.\u001b[39mlow_memory:\n\u001b[1;32m--> 234\u001b[0m         chunks \u001b[39m=\u001b[39m \u001b[39mself\u001b[39;49m\u001b[39m.\u001b[39;49m_reader\u001b[39m.\u001b[39;49mread_low_memory(nrows)\n\u001b[0;32m    235\u001b[0m         \u001b[39m# destructive to chunks\u001b[39;00m\n\u001b[0;32m    236\u001b[0m         data \u001b[39m=\u001b[39m _concatenate_chunks(chunks)\n",
      "File \u001b[1;32mparsers.pyx:843\u001b[0m, in \u001b[0;36mpandas._libs.parsers.TextReader.read_low_memory\u001b[1;34m()\u001b[0m\n",
      "File \u001b[1;32mparsers.pyx:904\u001b[0m, in \u001b[0;36mpandas._libs.parsers.TextReader._read_rows\u001b[1;34m()\u001b[0m\n",
      "File \u001b[1;32mparsers.pyx:879\u001b[0m, in \u001b[0;36mpandas._libs.parsers.TextReader._tokenize_rows\u001b[1;34m()\u001b[0m\n",
      "File \u001b[1;32mparsers.pyx:890\u001b[0m, in \u001b[0;36mpandas._libs.parsers.TextReader._check_tokenize_status\u001b[1;34m()\u001b[0m\n",
      "File \u001b[1;32mparsers.pyx:2058\u001b[0m, in \u001b[0;36mpandas._libs.parsers.raise_parser_error\u001b[1;34m()\u001b[0m\n",
      "\u001b[1;31mParserError\u001b[0m: Error tokenizing data. C error: Calling read(nbytes) on source failed. Try engine='python'."
     ]
    }
   ],
   "source": [
    "df_application_record = pd.read_csv(\"dataset/application_record.csv\")\n",
    "df_credit_record = pd.read_csv(\"dataset/credit_record.csv\")"
   ]
  },
  {
   "cell_type": "code",
   "execution_count": null,
   "metadata": {},
   "outputs": [],
   "source": [
    "# 丢弃重复ID数据\n",
    "df_application_record = df_application_record.drop_duplicates(subset = 'ID', keep = False)"
   ]
  },
  {
   "cell_type": "code",
   "execution_count": null,
   "metadata": {},
   "outputs": [],
   "source": [
    "# 调整数据框，以便仅使用一致的ID进行处理\n",
    "df_application_record = df_application_record[df_application_record['ID'].isin(df_credit_record['ID'])]\n",
    "df_credit_record = df_credit_record[df_credit_record['ID'].isin(df_application_record['ID'])]"
   ]
  },
  {
   "cell_type": "markdown",
   "metadata": {},
   "source": [
    "# 数据清洗"
   ]
  },
  {
   "cell_type": "code",
   "execution_count": null,
   "metadata": {},
   "outputs": [],
   "source": [
    "# 生成标签用于柱状图\n",
    "label_dict = {'1': 0, '2': 0, '3': 0, '4': 0, '5': 0, 'X': -1, 'C': 1, '0': 1}\n",
    "df_credit_record['APPROVED'] = df_credit_record['STATUS'].map(label_dict)\n",
    "df_credit_record = df_credit_record[df_credit_record['APPROVED'] != -1]"
   ]
  },
  {
   "cell_type": "code",
   "execution_count": null,
   "metadata": {},
   "outputs": [],
   "source": [
    "# 合并数据\n",
    "df_application_record = df_application_record.merge(df_credit_record, on='ID')"
   ]
  },
  {
   "cell_type": "code",
   "execution_count": null,
   "metadata": {},
   "outputs": [],
   "source": [
    "df_application_record = df_application_record[df_application_record['MONTHS_BALANCE']==-4]\n",
    "df_application_record.loc[df_application_record[\"NAME_INCOME_TYPE\"]==\"Pensioner\",\"OCCUPATION_TYPE\"] = \"Pension\"\n",
    "df_application_record.loc[df_application_record[\"NAME_INCOME_TYPE\"]==\"Commercial associate\",\"OCCUPATION_TYPE\"] = \"Commercial associate\"\n",
    "df_application_record.loc[df_application_record[\"NAME_INCOME_TYPE\"]==\"State servant\",\"OCCUPATION_TYPE\"] = \"State servant\"\n",
    "df_application_record.loc[df_application_record[\"NAME_INCOME_TYPE\"]==\"Student\",\"OCCUPATION_TYPE\"] = \"Student\"\n",
    "df_application_record = df_application_record.dropna()"
   ]
  },
  {
   "cell_type": "code",
   "execution_count": null,
   "metadata": {},
   "outputs": [],
   "source": [
    "df_application_record['Work_Time'] = -(df_application_record['DAYS_EMPLOYED'])//365\n",
    "\n",
    "df_application_record = df_application_record.drop(df_application_record[df_application_record['Work_Time']>50].index)\n",
    "df_application_record = df_application_record.drop(df_application_record[df_application_record['Work_Time']<0].index)\n",
    "df_application_record = df_application_record.drop(columns=['STATUS'])\n",
    "df_application_record.drop(['DAYS_EMPLOYED'],axis=1,inplace=True)\n"
   ]
  },
  {
   "cell_type": "code",
   "execution_count": null,
   "metadata": {},
   "outputs": [],
   "source": [
    "baseline_date = pd.to_datetime('2023-01-01')\n",
    "df_application_record['BIRTH_DATE'] = baseline_date + pd.to_timedelta(df_application_record['DAYS_BIRTH'], unit='D')\n",
    "df_application_record['AGE'] = (baseline_date - df_application_record['BIRTH_DATE']).dt.days // 365\n",
    "df_application_record = df_application_record.drop(columns=['DAYS_BIRTH','BIRTH_DATE'])"
   ]
  },
  {
   "cell_type": "code",
   "execution_count": null,
   "metadata": {},
   "outputs": [],
   "source": [
    "onehot = False\n",
    "if onehot:\n",
    "    categorical_columns = ['CODE_GENDER', 'NAME_FAMILY_STATUS', 'FLAG_OWN_CAR', 'FLAG_OWN_REALTY']\n",
    "    dummy_columns = ['NAME_INCOME_TYPE', 'NAME_EDUCATION_TYPE', 'NAME_HOUSING_TYPE', 'OCCUPATION_TYPE']\n",
    "else:\n",
    "    categorical_columns = ['CODE_GENDER', 'NAME_FAMILY_STATUS', 'FLAG_OWN_CAR', 'FLAG_OWN_REALTY', 'NAME_INCOME_TYPE', 'NAME_EDUCATION_TYPE', 'NAME_HOUSING_TYPE', 'OCCUPATION_TYPE']\n",
    "    dummy_columns = []\n",
    "categorical_df = df_application_record[categorical_columns]\n",
    "categorical_df = categorical_df.apply(lambda x: pd.factorize(x)[0])\n",
    "categorical_df = pd.DataFrame(categorical_df)\n",
    "df_application_record[categorical_columns] = categorical_df\n",
    "df_application_record = pd.get_dummies(df_application_record, columns=dummy_columns)\n",
    "df_application_record.to_csv('dataset.csv', index=False)"
   ]
  },
  {
   "cell_type": "markdown",
   "metadata": {},
   "source": [
    "# 创建数据集"
   ]
  },
  {
   "cell_type": "code",
   "execution_count": null,
   "metadata": {},
   "outputs": [],
   "source": [
    "# scaler = MinMaxScaler()\n",
    "# df_application_record['AMT_INCOME_TOTAL']=scaler.fit_transform(df_application_record['AMT_INCOME_TOTAL'].values.reshape(-1, 1))\n",
    "# df_application_record['DAYS_EMPLOYED']=scaler.fit_transform(df_application_record['DAYS_EMPLOYED'].values.reshape(-1, 1))\n",
    "# df_application_record['MONTHS_BALANCE']=scaler.fit_transform(df_application_record['MONTHS_BALANCE'].values.reshape(-1, 1))\n",
    "# scaler = StandardScaler()\n",
    "# df_application_record['CNT_FAM_MEMBERS']=scaler.fit_transform(df_application_record['CNT_FAM_MEMBERS'].values.reshape(-1, 1))\n",
    "# df_application_record['AGE']=scaler.fit_transform(df_application_record['AGE'].values.reshape(-1, 1))\n",
    "\n",
    "negative_data_orgin = df_application_record[df_application_record['APPROVED']==0]\n",
    "negative_data = negative_data_orgin.drop(['APPROVED', 'ID','CODE_GENDER'], axis = 1)\n",
    "\n",
    "X = df_application_record.drop(['APPROVED', 'ID','CODE_GENDER'], axis = 1)\n",
    "y = df_application_record['APPROVED']\n",
    "X = np.array(X,dtype=float)\n",
    "y = np.array(y, dtype=int)\n",
    "\n",
    "X_train, X_test, y_train, y_test = train_test_split(X, y)\n",
    "\n",
    "scalar = StandardScaler()\n",
    "X_train = scalar.fit_transform(X_train)\n",
    "X_test = scalar.fit_transform(X_test)\n",
    "\n",
    "negative_data = scalar.fit_transform(np.array(negative_data,dtype=float))\n",
    "negative_label_list = np.zeros(len(negative_data))\n",
    "\n",
    "\n",
    "# 创建 RandomUnderSampler 对象\n",
    "undersampler = RandomUnderSampler(sampling_strategy='majority')\n",
    "\n",
    "# 使用 RandomUnderSampler 来生成平衡的训练集\n",
    "X_train_under_random, y_train_under_random = undersampler.fit_resample(X_train, y_train)\n",
    "\n",
    "# 创建RandomOverSampler对象\n",
    "oversampler = RandomOverSampler(sampling_strategy='minority')\n",
    "\n",
    "# 使用RandomOverSampler来生成平衡的训练集\n",
    "X_train_over_random, y_train_over_random = oversampler.fit_resample(X_train, y_train)\n",
    "\n",
    "# 创建TomekLinks对象\n",
    "undersampler = TomekLinks()\n",
    "\n",
    "# 使用TomekLinks来生成平衡的训练集\n",
    "X_train_under_tomelinks, y_train_under_tomelinks = undersampler.fit_resample(X_train, y_train)\n",
    "\n",
    "# 创建SMOTE对象\n",
    "smote = SMOTE(sampling_strategy='minority',random_state=42)\n",
    "\n",
    "# 使用SMOTE来生成平衡的训练集\n",
    "X_train_smote, y_train_smote = smote.fit_resample(X_train, y_train)"
   ]
  },
  {
   "cell_type": "code",
   "execution_count": null,
   "metadata": {},
   "outputs": [],
   "source": [
    "data_dict = {\n",
    "    'Original Data': (X_train, y_train),\n",
    "    'Over-sampled Data': (X_train_over_random, y_train_over_random),\n",
    "    'Under-sampled Data': (X_train_under_random, y_train_under_random),\n",
    "    'Tomelinks Data': (X_train_under_tomelinks, y_train_under_tomelinks),\n",
    "    'SMOTE Data': (X_train_smote, y_train_smote)\n",
    "}"
   ]
  },
  {
   "cell_type": "markdown",
   "metadata": {},
   "source": [
    "# 分类"
   ]
  },
  {
   "cell_type": "code",
   "execution_count": null,
   "metadata": {},
   "outputs": [],
   "source": [
    "performance_data= []"
   ]
  },
  {
   "cell_type": "markdown",
   "metadata": {},
   "source": [
    "## LightGBM"
   ]
  },
  {
   "cell_type": "code",
   "execution_count": null,
   "metadata": {},
   "outputs": [],
   "source": [
    "params = {\n",
    "    'boosting_type': 'gbdt',\n",
    "    'objective': 'binary',\n",
    "    'learning_rate': 0.05,\n",
    "    'reg_lambda': 1.,\n",
    "    'reg_alpha': .1,\n",
    "    'max_depth': 5,\n",
    "    'n_estimators': 100,\n",
    "    'colsample_bytree': .5,\n",
    "    'min_child_samples': 100,\n",
    "    'subsample': .9,\n",
    "    'importance_type': 'gain',\n",
    "    'random_state': 71,\n",
    "    'num_leaves': 32,\n",
    "    'force_col_wise': True,\n",
    "    'scale_pos_weight': 1,\n",
    "    'bagging_freq': 5,\n",
    "}\n"
   ]
  },
  {
   "cell_type": "code",
   "execution_count": null,
   "metadata": {},
   "outputs": [],
   "source": [
    "for method_name, (X_train_processed, y_train_processed) in data_dict.items():\n",
    "    lgb_model = lgb.LGBMClassifier(**params, verbose=-1)\n",
    "\n",
    "    lgb_model.fit(X_train_processed, y_train_processed)\n",
    "\n",
    "    print(len(negative_data))\n",
    "    y_pred = lgb_model.predict(X_test)\n",
    "    y_prob = lgb_model.predict_proba(X_test)[:, 1]\n",
    "\n",
    "    accuracy = accuracy_score(y_test, y_pred)\n",
    "    precision = precision_score(y_test, y_pred)\n",
    "    recall = recall_score(y_test, y_pred)\n",
    "    f1 = f1_score(y_test, y_pred)\n",
    "    print(classification_report(y_test, y_pred))\n",
    "    negative_data_pred = lgb_model.predict(negative_data)\n",
    "    negative_accuracy = accuracy_score(negative_label_list, negative_data_pred)\n",
    "\n",
    "    print(\n",
    "        classification_report(negative_label_list,\n",
    "                              negative_data_pred,\n",
    "                              zero_division=1))\n",
    "\n",
    "    performance_data.append({\n",
    "        'Classification Method': 'LightGBM',\n",
    "        'Data Process Method': method_name,\n",
    "        'Accuracy': accuracy,\n",
    "        'Precision': precision,\n",
    "        'Recall': recall,\n",
    "        'F1 Score': f1,\n",
    "        'Negative Accuracy': negative_accuracy,\n",
    "    })"
   ]
  },
  {
   "cell_type": "markdown",
   "metadata": {},
   "source": [
    "## RandomForest"
   ]
  },
  {
   "cell_type": "code",
   "execution_count": null,
   "metadata": {},
   "outputs": [],
   "source": [
    "for method_name, (X_train_processed, y_train_processed) in data_dict.items():\n",
    "    rfc = RandomForestClassifier(n_estimators=1000, max_features=12)\n",
    "    rfc.fit(X_train_processed, y_train_processed)\n",
    "    predictions = rfc.predict(X_test)\n",
    "    print(f\"Classification Report for {method_name} on Test Data:\")\n",
    "    print(classification_report(y_test, predictions))\n",
    "    negative_predictions = rfc.predict(negative_data)\n",
    "    print(f\"Classification Report for {method_name} on Negative Data:\")\n",
    "    print(\n",
    "        classification_report(negative_label_list,\n",
    "                              negative_predictions,\n",
    "                              zero_division=1))\n",
    "    accuracy = accuracy_score(y_test, predictions)\n",
    "    precision = precision_score(y_test, predictions)\n",
    "    recall = recall_score(y_test, predictions)\n",
    "    f1 = f1_score(y_test, predictions)\n",
    "    performance_data.append({\n",
    "        'Classification Method': 'Random Forest',\n",
    "        'Data Process Method': method_name,\n",
    "        'Accuracy': accuracy,\n",
    "        'Precision': precision,\n",
    "        'Recall': recall,\n",
    "        'F1 Score': f1,\n",
    "        'Negative Accuracy': negative_accuracy,\n",
    "    })"
   ]
  },
  {
   "cell_type": "markdown",
   "metadata": {},
   "source": [
    "## AdaBoost for Decision Tree"
   ]
  },
  {
   "cell_type": "code",
   "execution_count": null,
   "metadata": {},
   "outputs": [],
   "source": [
    "for method_name, (X_train_processed, y_train_processed) in data_dict.items():\n",
    "    # 使用决策树桩作为弱分类器，也可以选择其他弱分类器\n",
    "    base_classifier = DecisionTreeClassifier(max_depth=1)\n",
    "\n",
    "    # 使用AdaBoost分类器\n",
    "    adaboost = AdaBoostClassifier(base_classifier,\n",
    "                                  n_estimators=1000,\n",
    "                                  algorithm='SAMME',\n",
    "                                  random_state=42)\n",
    "\n",
    "    # 训练模型\n",
    "    adaboost.fit(X_train_processed, y_train_processed)\n",
    "\n",
    "    # 在测试集上进行预测和评估\n",
    "    predictions_test = adaboost.predict(X_test)\n",
    "    print(f\"Classification Report for {method_name} on Test Data:\")\n",
    "    print(classification_report(y_test, predictions_test))\n",
    "\n",
    "    # 在负样本数据上进行预测和评估\n",
    "    predictions_negative = adaboost.predict(negative_data)\n",
    "    print(f\"Classification Report for {method_name} on Negative Data:\")\n",
    "    print(\n",
    "        classification_report(negative_label_list,\n",
    "                              predictions_negative,\n",
    "                              zero_division=1))\n",
    "    accuracy = accuracy_score(y_test, predictions_test)\n",
    "    precision = precision_score(y_test, predictions_test)\n",
    "    recall = recall_score(y_test, predictions_test)\n",
    "    f1 = f1_score(y_test, predictions_test)\n",
    "    performance_data.append({\n",
    "        'Classification Method': 'AdaBoost for Decision Tree',\n",
    "        'Data Process Method': method_name,\n",
    "        'Accuracy': accuracy,\n",
    "        'Precision': precision,\n",
    "        'Recall': recall,\n",
    "        'F1 Score': f1,\n",
    "        'Negative Accuracy': negative_accuracy,\n",
    "    })"
   ]
  },
  {
   "cell_type": "markdown",
   "metadata": {},
   "source": [
    "## SVM"
   ]
  },
  {
   "cell_type": "code",
   "execution_count": null,
   "metadata": {},
   "outputs": [],
   "source": [
    "for method_name, (X_train_processed, y_train_processed) in data_dict.items():\n",
    "   # 使用 SVM 替代 RandomForestClassifier\n",
    "   svm_model = SVC()\n",
    "   svm_model.fit(X_train_processed, y_train_processed)\n",
    "\n",
    "   # SVM 在测试集上的分类报告\n",
    "   predictions_svm_test = svm_model.predict(X_test)\n",
    "   print(f\"Method: {method_name} - SVM Classification Report on Test Data:\")\n",
    "   print(classification_report(y_test, predictions_svm_test))\n",
    "\n",
    "   # SVM 在负样本上的分类报告\n",
    "   predictions_svm_negative = svm_model.predict(negative_data)\n",
    "   print(\n",
    "      f\"Method: {method_name} - SVM Classification Report on Negative Data:\")\n",
    "   print(\n",
    "      classification_report(negative_label_list,\n",
    "                           predictions_negative,\n",
    "                           zero_division=1))\n",
    "   accuracy = accuracy_score(y_test, predictions_svm_test)\n",
    "   precision = precision_score(y_test, predictions_svm_test)\n",
    "   recall = recall_score(y_test, predictions_svm_test)\n",
    "   f1 = f1_score(y_test, predictions_svm_test)\n",
    "   performance_data.append({\n",
    "       'Classification Method': 'SVM',\n",
    "       'Data Process Method': method_name,\n",
    "       'Accuracy': accuracy,\n",
    "       'Precision': precision,\n",
    "       'Recall': recall,\n",
    "       'F1 Score': f1,\n",
    "       'Negative Accuracy': negative_accuracy,\n",
    "   })\n"
   ]
  },
  {
   "cell_type": "markdown",
   "metadata": {},
   "source": [
    "## AdaBoost for SVM"
   ]
  },
  {
   "cell_type": "code",
   "execution_count": null,
   "metadata": {},
   "outputs": [],
   "source": [
    "# for method_name, (X_train_processed, y_train_processed) in data_dict.items():\n",
    "#     # 使用支持向量机作为弱分类器\n",
    "#     base_classifier = SVC(kernel='linear', C=1.0)\n",
    "\n",
    "#     # 使用AdaBoost分类器\n",
    "#     adaboost = AdaBoostClassifier(base_classifier,\n",
    "#                                   n_estimators=1000,\n",
    "#                                   algorithm='SAMME',\n",
    "#                                   random_state=42)\n",
    "\n",
    "#     # 训练模型\n",
    "#     adaboost.fit(X_train_processed, y_train_processed)\n",
    "\n",
    "#     # 在测试集上进行预测和评估\n",
    "#     predictions_test = adaboost.predict(X_test)\n",
    "#     print(f\"Classification Report for {method_name} on Test Data:\")\n",
    "#     print(classification_report(y_test, predictions_test))\n",
    "\n",
    "#     # 在负样本数据上进行预测和评估\n",
    "#     predictions_negative = adaboost.predict(negative_data)\n",
    "#     print(f\"Classification Report for {method_name} on Negative Data:\")\n",
    "#     print(\n",
    "#         classification_report(negative_label_list,\n",
    "#                               predictions_negative,\n",
    "#                               zero_division=1))\n",
    "#     accuracy = accuracy_score(y_test, predictions_test)\n",
    "#     precision = precision_score(y_test, predictions_test)\n",
    "#     recall = recall_score(y_test, predictions_test)\n",
    "#     f1 = f1_score(y_test, predictions_test)\n",
    "#     performance_data.append({\n",
    "#         'Classification Method': 'AdaBoost for SVM',\n",
    "#         'Data Process Method': method_name,\n",
    "#         'Accuracy': accuracy,\n",
    "#         'Precision': precision,\n",
    "#         'Recall': recall,\n",
    "#         'F1 Score': f1,\n",
    "#         'Negative Accuracy': negative_accuracy,\n",
    "#     })"
   ]
  },
  {
   "cell_type": "markdown",
   "metadata": {},
   "source": [
    "# 特征提取"
   ]
  },
  {
   "cell_type": "code",
   "execution_count": null,
   "metadata": {},
   "outputs": [],
   "source": [
    "model_dict = {}\n",
    "\n",
    "for method_name, (X_train_processed, _) in data_dict.items():\n",
    "    print(\"Training for the method: \" + method_name)\n",
    "    model = train_vae(X_train=X_train_processed, X_test=X_test, progress=False, num_epoch=250).eval()\n",
    "    model_dict[method_name] = model\n",
    "\n",
    "total_dict = {}\n",
    "\n",
    "for method_name, (X_train_processed, _) in data_dict.items():\n",
    "    model = model_dict[method_name]\n",
    "    total_dict[method_name] = (X_train_processed, _, model)"
   ]
  },
  {
   "cell_type": "code",
   "execution_count": null,
   "metadata": {},
   "outputs": [],
   "source": [
    "for method_name, (X_train_processed, _, model) in total_dict.items():\n",
    "    model.eval()\n",
    "    with torch.no_grad():\n",
    "        encoded_data = model.encoder(torch.Tensor(X_train_processed).to(device))\n",
    "        encoded_data = encoded_data.cpu().numpy()\n",
    "        tsne = TSNE(n_components=2)\n",
    "        reduced_data = tsne.fit_transform(encoded_data)\n",
    "\n",
    "    plt.scatter(reduced_data[:, 0], reduced_data[:, 1])\n",
    "    plt.title(f\"VAE Visualization for {method_name}\")\n",
    "    plt.show()"
   ]
  },
  {
   "cell_type": "markdown",
   "metadata": {},
   "source": [
    "## LightGBM for VAE data"
   ]
  },
  {
   "cell_type": "code",
   "execution_count": null,
   "metadata": {},
   "outputs": [],
   "source": [
    "for method_name, (X_train_processed, y_train_processed, model) in total_dict.items():\n",
    "    lgb_model = lgb.LGBMClassifier(**params, verbose=-1)\n",
    "\n",
    "    lgb_model.fit(model.encoder(torch.Tensor(X_train_processed).to(device)).cpu().detach().numpy(), y_train_processed)\n",
    "\n",
    "    y_pred = lgb_model.predict(model.encoder(torch.Tensor(X_test).to(device)).detach().cpu().numpy())\n",
    "\n",
    "    accuracy = accuracy_score(y_test, y_pred)\n",
    "    precision = precision_score(y_test, y_pred)\n",
    "    recall = recall_score(y_test, y_pred)\n",
    "    f1 = f1_score(y_test, y_pred)\n",
    "\n",
    "    print(classification_report(y_test, y_pred))\n",
    "    negative_data_pred = lgb_model.predict(model.encoder(torch.Tensor(negative_data).to(device)).detach().cpu().numpy())\n",
    "    negative_accuracy = accuracy_score(negative_label_list, negative_data_pred)\n",
    "\n",
    "    print(\n",
    "        classification_report(negative_label_list,\n",
    "                              negative_data_pred,\n",
    "                              zero_division=1))\n",
    "\n",
    "    performance_data.append({\n",
    "        'Classification Method': 'LightGBM for VAE data',\n",
    "        'Data Process Method': method_name,\n",
    "        'Accuracy': accuracy,\n",
    "        'Precision': precision,\n",
    "        'Recall': recall,\n",
    "        'F1 Score': f1,\n",
    "        'Negative Accuracy': negative_accuracy,\n",
    "    })\n"
   ]
  },
  {
   "cell_type": "markdown",
   "metadata": {},
   "source": [
    "## SVM for VAE data"
   ]
  },
  {
   "cell_type": "code",
   "execution_count": null,
   "metadata": {},
   "outputs": [],
   "source": [
    "for method_name, (X_train_processed, y_train_processed, model) in total_dict.items():\n",
    "    svm_model = SVC()\n",
    "    train_feature = model.encoder(torch.Tensor(X_train_processed).to(device)).cpu().detach().numpy()\n",
    "    test_feature = model.encoder(torch.Tensor(X_test).to(device)).detach().cpu().numpy()\n",
    "    svm_model.fit(train_feature, y_train_processed)\n",
    "    predictions = svm_model.predict(test_feature)\n",
    "    print(classification_report(y_test, predictions))\n",
    "    negative_predictions = svm_model.predict(model.encoder(torch.Tensor(negative_data).to(device)).detach().cpu().numpy())\n",
    "    print(\n",
    "        classification_report(negative_label_list,\n",
    "                              negative_predictions,\n",
    "                              zero_division=1))\n",
    "    accuracy = accuracy_score(y_test, predictions)\n",
    "    precision = precision_score(y_test, predictions)\n",
    "    recall = recall_score(y_test, predictions)\n",
    "    f1 = f1_score(y_test, predictions)\n",
    "    negative_accuracy = accuracy_score(negative_label_list, negative_predictions)\n",
    "    performance_data.append({\n",
    "        'Classification Method': 'SVM for VAE data',\n",
    "        'Data Process Method': method_name,\n",
    "        'Accuracy': accuracy,\n",
    "        'Precision': precision,\n",
    "        'Recall': recall,\n",
    "        'F1 Score': f1,\n",
    "        'Negative Accuracy': negative_accuracy,\n",
    "    })"
   ]
  },
  {
   "cell_type": "markdown",
   "metadata": {},
   "source": [
    "## AdaBoost for Decision Tree for VAE data"
   ]
  },
  {
   "cell_type": "code",
   "execution_count": null,
   "metadata": {},
   "outputs": [],
   "source": [
    "for method_name, (X_train_processed, y_train_processed, model) in total_dict.items():\n",
    "    train_feature = model.encoder(torch.Tensor(X_train_processed).to(device)).cpu().detach().numpy()\n",
    "    test_feature = model.encoder(torch.Tensor(X_test).to(device)).detach().cpu().numpy()\n",
    "\n",
    "    # 使用决策树桩作为弱分类器，也可以选择其他弱分类器\n",
    "    base_classifier = DecisionTreeClassifier(max_depth=1)\n",
    "\n",
    "    # 使用AdaBoost分类器\n",
    "    adaboost = AdaBoostClassifier(base_classifier,\n",
    "                                  n_estimators=1000,\n",
    "                                  algorithm='SAMME',\n",
    "                                  random_state=42)\n",
    "\n",
    "    # 训练模型\n",
    "    adaboost.fit(train_feature, y_train_processed)\n",
    "\n",
    "    # 在测试集上进行预测和评估\n",
    "    predictions_test = adaboost.predict(test_feature)\n",
    "    print(f\"Classification Report for {method_name} on Test Data:\")\n",
    "    print(classification_report(y_test, predictions_test))\n",
    "\n",
    "    # 在负样本数据上进行预测和评估\n",
    "    predictions_negative = adaboost.predict(model.encoder(torch.Tensor(negative_data).to(device)).detach().cpu().numpy())\n",
    "    print(f\"Classification Report for {method_name} on Negative Data:\")\n",
    "    print(\n",
    "        classification_report(negative_label_list,\n",
    "                              predictions_negative,\n",
    "                              zero_division=1))\n",
    "    accuracy = accuracy_score(y_test, predictions_test)\n",
    "    precision = precision_score(y_test, predictions_test)\n",
    "    recall = recall_score(y_test, predictions_test)\n",
    "    f1 = f1_score(y_test, predictions_test)\n",
    "    negative_accuracy = accuracy_score(negative_label_list, predictions_negative)\n",
    "    performance_data.append({\n",
    "        'Classification Method': 'AdaBoost for Decision Tree',\n",
    "        'Data Process Method': method_name,\n",
    "        'Accuracy': accuracy,\n",
    "        'Precision': precision,\n",
    "        'Recall': recall,\n",
    "        'F1 Score': f1,\n",
    "        'Negative Accuracy': negative_accuracy,\n",
    "    })"
   ]
  },
  {
   "cell_type": "markdown",
   "metadata": {},
   "source": [
    "# Ensemble"
   ]
  },
  {
   "cell_type": "code",
   "execution_count": null,
   "metadata": {},
   "outputs": [],
   "source": [
    "params = {\n",
    "    'boosting_type': 'gbdt',\n",
    "    'objective': 'binary',\n",
    "    'metrics': 'binary_logloss',\n",
    "    'learning_rate': 0.05,\n",
    "    'reg_lambda': 1.,\n",
    "    'reg_alpha': .1,\n",
    "    'max_depth': 5,\n",
    "    'n_estimators': 100,\n",
    "    'colsample_bytree': .5,\n",
    "    'min_child_samples': 100,\n",
    "    'subsample': .9,\n",
    "    'importance_type': 'gain',\n",
    "    'random_state': 71,\n",
    "    'num_leaves': 32,\n",
    "    'force_col_wise': True,\n",
    "    'scale_pos_weight': 1,\n",
    "    'bagging_freq': 5,\n",
    "}"
   ]
  },
  {
   "cell_type": "markdown",
   "metadata": {},
   "source": [
    "## Stacking"
   ]
  },
  {
   "cell_type": "code",
   "execution_count": null,
   "metadata": {},
   "outputs": [],
   "source": [
    "# 使用决策树桩作为弱分类器，也可以选择其他弱分类器\n",
    "base_classifier = DecisionTreeClassifier(max_depth=1)\n",
    "\n",
    "# 使用AdaBoost分类器\n",
    "adaboost = AdaBoostClassifier(base_classifier,\n",
    "                              n_estimators=1000,\n",
    "                              algorithm='SAMME',\n",
    "                              random_state=42)\n",
    "\n",
    "X_train_processed = total_dict['Under-sampled Data'][0]\n",
    "\n",
    "# 训练模型\n",
    "adaboost.fit(X_train_under_random, y_train_under_random)\n",
    "\n",
    "# 在测试集上进行预测和评估\n",
    "predictions_ada = adaboost.predict(X_test)\n",
    "negative_accuracy_1 = adaboost.predict(negative_data)"
   ]
  },
  {
   "cell_type": "code",
   "execution_count": null,
   "metadata": {},
   "outputs": [],
   "source": [
    "# 使用LightGBM分类器\n",
    "lgb_model = lgb.LGBMClassifier(**params, verbose=-1)\n",
    "\n",
    "# 训练模型\n",
    "lgb_model.fit(X_train_under_random, y_train_under_random)\n",
    "\n",
    "# 在测试集上进行预测和评估\n",
    "predictions_lgbm = lgb_model.predict(X_test)\n",
    "negative_accuracy_2 = lgb_model.predict(negative_data)"
   ]
  },
  {
   "cell_type": "code",
   "execution_count": null,
   "metadata": {},
   "outputs": [],
   "source": [
    "# 创建元模型\n",
    "meta_model = RandomForestClassifier(n_estimators=100, random_state=42)\n",
    "\n",
    "# 将基模型的预测结果作为特征\n",
    "X_ensemble = np.column_stack((predictions_ada, predictions_lgbm))\n",
    "negative_predictions = np.column_stack((negative_accuracy_1,negative_accuracy_2))\n",
    "\n",
    "# 划分数据集\n",
    "X_train_ensemble, X_test_ensemble, y_train_ensemble, y_test_ensemble = train_test_split(X_ensemble, y_test, test_size=0.2, random_state=42)\n",
    "\n",
    "# 训练元模型\n",
    "meta_model.fit(X_train_ensemble, y_train_ensemble)\n",
    "\n",
    "# 预测\n",
    "ensemble_predictions = meta_model.predict(X_test_ensemble)\n",
    "negative_predictions = meta_model.predict(negative_predictions)\n",
    "\n",
    "# 计算新的指标\n",
    "accuracy_ensemble = accuracy_score(y_test_ensemble, ensemble_predictions)\n",
    "negative_accuracy_ensemble = accuracy_score(negative_label_list, negative_predictions)\n",
    "precision_ensemble = precision_score(y_test_ensemble, ensemble_predictions)\n",
    "recall_ensemble = recall_score(y_test_ensemble, ensemble_predictions)\n",
    "f1_ensemble = f1_score(y_test_ensemble, ensemble_predictions)\n",
    "\n",
    "# 打印新的指标\n",
    "print(\"Ensemble Model Metrics:\")\n",
    "print(f\"Accuracy: {accuracy_ensemble:.4f}\")\n",
    "print(f\"Precision: {precision_ensemble:.4f}\")\n",
    "print(f\"Recall: {recall_ensemble:.4f}\")\n",
    "print(f\"F1 Score: {f1_ensemble:.4f}\")\n",
    "print(f\"Negative Accuracy: {negative_accuracy_ensemble:.4f}\")\n",
    "\n",
    "# 打印分类报告\n",
    "print(\"Classification Report for Ensemble Model:\")\n",
    "print(classification_report(y_test_ensemble, ensemble_predictions))\n",
    "performance_data.append({\n",
    "    'Classification Method': 'Stacking Ensemble Model for AdaBoost and LightGBM',\n",
    "    'Data Process Method': 'Under-sampled Data',\n",
    "    'Accuracy': accuracy,\n",
    "    'Precision': precision,\n",
    "    'Recall': recall,\n",
    "    'F1 Score': f1,\n",
    "    'Negative Accuracy': negative_accuracy_ensemble,\n",
    "})"
   ]
  },
  {
   "cell_type": "markdown",
   "metadata": {},
   "source": [
    "## Voting"
   ]
  },
  {
   "cell_type": "code",
   "execution_count": null,
   "metadata": {},
   "outputs": [],
   "source": [
    "# 创建投票分类器\n",
    "voting_model = VotingClassifier(estimators=[('adaboost', adaboost), ('lgbm', lgb_model)], voting='hard')\n",
    "\n",
    "# 训练投票模型\n",
    "voting_model.fit(X_train_under_random, y_train_under_random)\n",
    "\n",
    "# 预测\n",
    "ensemble_predictions = voting_model.predict(X_test)\n",
    "negative_predictions = voting_model.predict(negative_data)\n",
    "\n",
    "# 计算新的指标\n",
    "accuracy_ensemble = accuracy_score(y_test, ensemble_predictions)\n",
    "negative_accuracy_ensemble = accuracy_score(negative_label_list, negative_predictions)\n",
    "precision_ensemble = precision_score(y_test, ensemble_predictions)\n",
    "recall_ensemble = recall_score(y_test, ensemble_predictions)\n",
    "f1_ensemble = f1_score(y_test, ensemble_predictions)\n",
    "\n",
    "# 打印新的指标\n",
    "print(\"Ensemble Model Metrics:\")\n",
    "print(f\"Accuracy: {accuracy_ensemble:.4f}\")\n",
    "print(f\"Precision: {precision_ensemble:.4f}\")\n",
    "print(f\"Recall: {recall_ensemble:.4f}\")\n",
    "print(f\"F1 Score: {f1_ensemble:.4f}\")\n",
    "print(f\"Negative Accuracy: {negative_accuracy_ensemble:.4f}\")\n",
    "performance_data.append({\n",
    "    'Classification Method': 'Voting Ensemble Model for AdaBoost and LightGBM',\n",
    "    'Data Process Method': 'Under-sampled Data',\n",
    "    'Accuracy': accuracy,\n",
    "    'Precision': precision,\n",
    "    'Recall': recall,\n",
    "    'F1 Score': f1,\n",
    "    'Negative Accuracy': negative_accuracy_ensemble,\n",
    "})\n",
    "\n",
    "# 打印分类报告\n",
    "print(\"Classification Report for Ensemble Model:\")\n",
    "print(classification_report(y_test, ensemble_predictions))\n"
   ]
  },
  {
   "cell_type": "markdown",
   "metadata": {},
   "source": [
    "# Anomaly Detection"
   ]
  },
  {
   "cell_type": "markdown",
   "metadata": {},
   "source": [
    "## VAE"
   ]
  },
  {
   "cell_type": "code",
   "execution_count": null,
   "metadata": {},
   "outputs": [],
   "source": [
    "Anomal_dict = {}\n",
    "Anomal_model_list = []\n",
    "\n",
    "for method_name, (X_train_processed, _) in data_dict.items():\n",
    "    print(\"Training for the method: \" + method_name)\n",
    "    model = train_vae_anomaly_detection(X_train=X_train_processed, X_test=X_test, progress=True, num_epoch=250).eval()\n",
    "    Anomal_model_list.append(model)\n",
    "    Anomal_dict[method_name] = (X_train_processed, _, model)"
   ]
  },
  {
   "cell_type": "code",
   "execution_count": null,
   "metadata": {},
   "outputs": [],
   "source": [
    "for method_name, (X_train_processed, _, model) in Anomal_dict.items():\n",
    "    predictions = model.predict_anomaly(\n",
    "        torch.Tensor(X_test).to(device),\n",
    "        threshold=0.05).detach().cpu().numpy()\n",
    "    negative_data_pred = model.predict_anomaly(\n",
    "        torch.Tensor(negative_data).to(device),\n",
    "        threshold=0.05).detach().cpu().numpy()\n",
    "\n",
    "    # 计算评估指标\n",
    "    report_test = classification_report(y_test, predictions, output_dict=True)\n",
    "    report_negative = classification_report(negative_label_list, negative_data_pred, output_dict=True, zero_division=1)\n",
    "\n",
    "    # 提取指标\n",
    "    accuracy = accuracy_score(y_test, predictions)\n",
    "    precision = report_test['1']['precision']\n",
    "    recall = report_test['1']['recall']\n",
    "    f1 = report_test['1']['f1-score']\n",
    "    negative_accuracy = accuracy_score(negative_label_list, negative_data_pred)\n",
    "\n",
    "    print(classification_report(y_test, predictions))\n",
    "    print(\n",
    "        classification_report(negative_label_list,\n",
    "                              negative_data_pred,\n",
    "                              zero_division=1))\n",
    "    # 添加到 performance_data 列表中\n",
    "    performance_data.append({\n",
    "        'Classification Method': 'Anomaly Detection with VAE',\n",
    "        'Data Process Method': method_name,\n",
    "        'Accuracy': accuracy,\n",
    "        'Precision': precision,\n",
    "        'Recall': recall,\n",
    "        'F1 Score': f1,\n",
    "        'Negative Accuracy': negative_accuracy,\n",
    "    })"
   ]
  },
  {
   "cell_type": "code",
   "execution_count": null,
   "metadata": {},
   "outputs": [],
   "source": [
    "data_df = pd.DataFrame(performance_data)\n",
    "data_df = data_df.round({'Accuracy': 3, 'Precision': 3, 'Recall': 3, 'F1 Score': 3, 'Negative Accuracy': 3})\n",
    "\n",
    "# 找到最佳性能数据的行\n",
    "best_accuracy_row = data_df[data_df['Accuracy'] == data_df['Accuracy'].max()]\n",
    "best_precision_row = data_df[data_df['Precision'] == data_df['Precision'].max()]\n",
    "best_recall_row = data_df[data_df['Recall'] == data_df['Recall'].max()]\n",
    "best_f1_score_row = data_df[data_df['F1 Score'] == data_df['F1 Score'].max()]\n",
    "best_negative_accuracy_row = data_df[data_df['Negative Accuracy'] == data_df['Negative Accuracy'].max()]\n",
    "\n",
    "# 输出最佳性能数据\n",
    "print(\"best Accuracy Classification Method:\", best_accuracy_row['Classification Method'].values[0])\n",
    "print(\"Best Accuracy Data Process Method:\", best_accuracy_row['Data Process Method'].values[0])\n",
    "print(\"Best Accuracy Value:\", best_accuracy_row['Accuracy'].values[0])\n",
    "\n",
    "print(\"best Accuracy Classification Method:\", best_precision_row['Classification Method'].values[0])\n",
    "print(\"Best Precision Data Process Method:\", best_precision_row['Data Process Method'].values[0])\n",
    "print(\"Best Precision Value:\", best_precision_row['Precision'].values[0])\n",
    "\n",
    "print(\"best Accuracy Classification Method:\", best_recall_row['Classification Method'].values[0])\n",
    "print(\"Best Recall Data Process Method:\", best_recall_row['Data Process Method'].values[0])\n",
    "print(\"Best Recall Value:\", best_recall_row['Recall'].values[0])\n",
    "\n",
    "print(\"best Accuracy Classification Method:\", best_f1_score_row['Classification Method'].values[0])\n",
    "print(\"Best F1 Score Data Process Method:\", best_f1_score_row['Data Process Method'].values[0])\n",
    "print(\"Best F1 Score Value:\", best_f1_score_row['F1 Score'].values[0])\n",
    "\n",
    "\n",
    "print(\"best Accuracy Classification Method:\", best_negative_accuracy_row['Classification Method'].values[0])\n",
    "print(\"Best Negative Accuracy Data Process Method:\", best_negative_accuracy_row['Data Process Method'].values[0])\n",
    "print(\"Best Negative Accuracy Value:\", best_negative_accuracy_row['Negative Accuracy'].values[0])\n",
    "data_df.to_csv('output/performance_data.csv', index=False)"
   ]
  }
 ],
 "metadata": {
  "kernelspec": {
   "display_name": ".venv",
   "language": "python",
   "name": "python3"
  },
  "language_info": {
   "codemirror_mode": {
    "name": "ipython",
    "version": 3
   },
   "file_extension": ".py",
   "mimetype": "text/x-python",
   "name": "python",
   "nbconvert_exporter": "python",
   "pygments_lexer": "ipython3",
   "version": "3.11.5"
  }
 },
 "nbformat": 4,
 "nbformat_minor": 2
}
